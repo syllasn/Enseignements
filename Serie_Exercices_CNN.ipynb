{
  "cells": [
    {
      "cell_type": "markdown",
      "metadata": {
        "id": "gv-BakXgN9W3"
      },
      "source": [
        "# Execice 1 : LeNet5"
      ]
    },
    {
      "cell_type": "markdown",
      "metadata": {
        "id": "H_49uT_4N9W7"
      },
      "source": []
    },
    {
      "cell_type": "markdown",
      "metadata": {
        "id": "PUAiMfvIN9W8"
      },
      "source": [
        "In this exercise, we will apply the LeNet5 algorithm to the Fashion MNIST dataset and improve your performances."
      ]
    },
    {
      "cell_type": "markdown",
      "metadata": {
        "id": "BcVrsunlN9W8"
      },
      "source": [
        "We will first download the data:"
      ]
    },
    {
      "cell_type": "code",
      "execution_count": null,
      "metadata": {
        "scrolled": true,
        "id": "WykvGZYhN9W9"
      },
      "outputs": [],
      "source": [
        "\n",
        "\n"
      ]
    },
    {
      "cell_type": "markdown",
      "metadata": {
        "id": "DafnGVvLN9W_"
      },
      "source": [
        "As you already know, this dataset contains 10 classes:\n",
        "* 0:\tT-shirt/top\n",
        "* 1:\tTrouser\n",
        "* 2:\tPullover\n",
        "* 3:\tDress\n",
        "* 4:\tCoat\n",
        "* 5:\tSandal\n",
        "* 6:\tShirt\n",
        "* 7:\tSneaker\n",
        "* 8:\tBag\n",
        "* 9:\tAnkle boot"
      ]
    },
    {
      "cell_type": "markdown",
      "metadata": {
        "id": "E_Abp8hvN9W_"
      },
      "source": [
        "You can have a look at some images if needed, even if you already know them."
      ]
    },
    {
      "cell_type": "code",
      "execution_count": null,
      "metadata": {
        "scrolled": true,
        "id": "S3Q6qJI2N9W_"
      },
      "outputs": [],
      "source": [
        "# TODO: Explore the data, display some input images\n",
        "### STRIP_START ###\n",
        "\n",
        "### STRIP_END ###"
      ]
    },
    {
      "cell_type": "markdown",
      "metadata": {
        "id": "VJnzBb2TN9XB"
      },
      "source": [
        "Make the data preparation and preprocessing: scale and reshape the data, put the labels to the good shape."
      ]
    },
    {
      "cell_type": "code",
      "execution_count": null,
      "metadata": {
        "id": "90Jp6fQdN9XB"
      },
      "outputs": [],
      "source": [
        "# TODO: Make the data preparation\n",
        "### STRIP_START ###\n",
        "\n",
        "### STRIP_END ###"
      ]
    },
    {
      "cell_type": "markdown",
      "metadata": {
        "id": "l0RdBJsXN9XC"
      },
      "source": [
        "Now build the LeNet5 architecture. You can reuse the one of the course, or try to build it by yourself.\n",
        "\n",
        "The architecture is the following:\n",
        "\n",
        "![](../../../00-Lectures/images/Lenet5.png)"
      ]
    },
    {
      "cell_type": "code",
      "execution_count": null,
      "metadata": {
        "id": "UKj95GVkN9XD"
      },
      "outputs": [],
      "source": [
        "# TODO: Build your model\n",
        "### STRIP_START ###\n",
        "\n",
        "\n",
        "\n",
        "### STRIP_END ###"
      ]
    },
    {
      "cell_type": "markdown",
      "metadata": {
        "id": "cPBo8Q7pN9XD"
      },
      "source": [
        "Now compile and fit your model on your training data. "
      ]
    },
    {
      "cell_type": "code",
      "execution_count": null,
      "metadata": {
        "scrolled": true,
        "id": "6XkIyJ4bN9XE"
      },
      "outputs": [],
      "source": [
        "# TODO: Compile and fit your model\n",
        "### STRIP_START ###\n",
        "\n",
        "# Define now our callbacks\n",
        "\n",
        "# Finally fit the model\n",
        "### STRIP_END ###"
      ]
    },
    {
      "cell_type": "markdown",
      "metadata": {
        "id": "2r7OdXfhN9XE"
      },
      "source": [
        "Have a look at the tensorboard and see if it gives a deeper understanding of your model."
      ]
    },
    {
      "cell_type": "markdown",
      "metadata": {
        "id": "EYOWEQJFN9XE"
      },
      "source": [
        "Compute then the accuracy of your model. Is it better than a regular MLP used a couple of days ago?"
      ]
    },
    {
      "cell_type": "code",
      "execution_count": 1,
      "metadata": {
        "id": "DrrRCS3FN9XF"
      },
      "outputs": [],
      "source": [
        "# TODO: Compute the accuracy of your model\n",
        "### STRIP_START ###\n",
        "\n",
        "### STRIP_END ###"
      ]
    },
    {
      "cell_type": "markdown",
      "metadata": {
        "id": "xdHh2q3EN9XF"
      },
      "source": [
        "We will now add image augmentation to improve our results, especially we will try to reduce overfitting this way.\n",
        "\n",
        "To do so, you can use `ImageDataGenerator` from Keras that makes all the work for you (including rescaling), with the following parameter: \n",
        "* `horizontal_flip=True`\n",
        "\n",
        "Begin by creating an object `ImageDataGenerator` with this parameter."
      ]
    },
    {
      "cell_type": "code",
      "execution_count": null,
      "metadata": {
        "id": "znJN7lIYN9XF"
      },
      "outputs": [],
      "source": [
        "# TODO: Instantiate an ImageDataGenerator object\n",
        "### STRIP_START ###\n",
        "\n",
        "\n",
        "### STRIP_END ###"
      ]
    },
    {
      "cell_type": "markdown",
      "metadata": {
        "id": "fVFImmDsN9XF"
      },
      "source": [
        "Then you have to fit your `ImageDataGenerator` on your training set of images before any preprocessing."
      ]
    },
    {
      "cell_type": "code",
      "execution_count": null,
      "metadata": {
        "id": "1yWf7TnmN9XG"
      },
      "outputs": [],
      "source": [
        "# TODO: fit your ImageDataGenerator object\n",
        "### STRIP_START ###\n",
        "\n",
        "### STRIP_END ###"
      ]
    },
    {
      "cell_type": "markdown",
      "metadata": {
        "id": "AeJMB8TvN9XG"
      },
      "source": [
        "Finally, you can train your model using this generator, with the method `fit_generator` of your model and the method `flow` of your `ImageDataGenerator`."
      ]
    },
    {
      "cell_type": "code",
      "execution_count": null,
      "metadata": {
        "scrolled": true,
        "id": "FfJVgoNdN9XG"
      },
      "outputs": [],
      "source": [
        "# TODO: train your model\n",
        "### STRIP_START ###\n",
        "\n",
        "\n",
        "\n",
        "### STRIP_END ###"
      ]
    },
    {
      "cell_type": "markdown",
      "metadata": {
        "id": "8ebcAH4rN9XG"
      },
      "source": [
        "Recompute the accuracy of your model, does it improve your performances with data augmentation?"
      ]
    },
    {
      "cell_type": "code",
      "execution_count": 2,
      "metadata": {
        "id": "JO_YVsxcN9XH"
      },
      "outputs": [],
      "source": [
        "# TODO: Compute the accuracy of your model\n",
        "### STRIP_START ###\n",
        "\n",
        "\n",
        "\n",
        "### STRIP_END ###"
      ]
    },
    {
      "cell_type": "markdown",
      "metadata": {
        "id": "lMVtNi3XN9XH"
      },
      "source": [
        "You can now try to improve even more your results. For example, add more parameters to your `ImageDataGenerator`, play with some hyperparameters, and so on..."
      ]
    },
    {
      "cell_type": "code",
      "execution_count": null,
      "metadata": {
        "id": "aW77IMD1N9XH"
      },
      "outputs": [],
      "source": []
    },
    {
      "cell_type": "markdown",
      "source": [
        "#Exercice 2"
      ],
      "metadata": {
        "id": "5B2QR3jjQYAh"
      }
    },
    {
      "cell_type": "markdown",
      "source": [
        "\n",
        "\n",
        "See Kaggle dataset dogs and cats [here](https://www.kaggle.com/c/dogs-vs-cats) and download the training dataset. Please do not look at the solutions, for obvious pedogogical reasons... but call the teacher instead.\n",
        "\n",
        "### Data Preparation\n",
        "We will use only a subset of the training dataset for computing resources reasons: 1000 cats + 1000 dogs images in train, 200 cats + 200 dogs in test.\n",
        "\n",
        "First split by hand your dataset like the following:\n",
        "```\n",
        "- data/\n",
        "--- train/\n",
        "----- cats/\n",
        "------- cats001.jpg\n",
        "------- cats002.jpg\n",
        "        ...\n",
        "------ dogs/\n",
        "------- dogs001.jpg\n",
        "------- dogs002.jpg\n",
        "        ...\n",
        "--- test/\n",
        "----- cats/\n",
        "------- cats001.jpg\n",
        "------- cats002.jpg\n",
        "        ...\n",
        "----- dogs/\n",
        "------- dogs0001.jpg\n",
        "------- dogs0002.jpg\n",
        "        ...\n",
        "```\n",
        "\n",
        "### Data exploration\n",
        "\n",
        "Feel free to open and display some images.\n",
        "\n",
        "### Model building\n",
        "\n",
        "Build a Convolutional Neural Network.\n",
        "\n",
        "### Model training\n",
        "\n",
        "Since data is huge and might not fit in your computer memory, use keras `ImageDataGenerator` and `fit_generator` to train your model on the data.\n",
        "\n",
        "### Performances estimation\n",
        "\n",
        "Estimate the performances of your model with the accuracy metrics. Is it good enough? \n",
        "\n",
        "Then try to improve by all means you can leverage: architecture, hyperparameters, data augmentation."
      ],
      "metadata": {
        "id": "n_GXn4u3Qdu-"
      }
    }
  ],
  "metadata": {
    "kernelspec": {
      "display_name": "Python 3",
      "language": "python",
      "name": "python3"
    },
    "language_info": {
      "codemirror_mode": {
        "name": "ipython",
        "version": 3
      },
      "file_extension": ".py",
      "mimetype": "text/x-python",
      "name": "python",
      "nbconvert_exporter": "python",
      "pygments_lexer": "ipython3",
      "version": "3.7.2"
    },
    "toc": {
      "base_numbering": 1,
      "nav_menu": {},
      "number_sections": true,
      "sideBar": true,
      "skip_h1_title": false,
      "title_cell": "Table of Contents",
      "title_sidebar": "Contents",
      "toc_cell": false,
      "toc_position": {},
      "toc_section_display": true,
      "toc_window_display": false
    },
    "colab": {
      "provenance": []
    }
  },
  "nbformat": 4,
  "nbformat_minor": 0
}