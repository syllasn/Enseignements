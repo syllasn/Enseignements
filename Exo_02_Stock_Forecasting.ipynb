{
  "cells": [
    {
      "cell_type": "markdown",
      "metadata": {
        "id": "jIM5DIg-p201"
      },
      "source": [
        "# 02-Stock-Forecasting"
      ]
    },
    {
      "cell_type": "markdown",
      "metadata": {
        "id": "CvjbfcSSp205"
      },
      "source": [
        "![](https://images.unsplash.com/photo-1468254095679-bbcba94a7066?ixlib=rb-1.2.1&ixid=eyJhcHBfaWQiOjEyMDd9&auto=format&fit=crop&w=1049&q=80)\n",
        "\n",
        "Photo by [Rick Tap](https://unsplash.com/photos/uJhgEXPqSPk)"
      ]
    },
    {
      "cell_type": "markdown",
      "metadata": {
        "id": "44aM5N_Up206"
      },
      "source": [
        "In this exercise, you will use a RNN to predict the stock market evolution.\n",
        "\n",
        "Stock market can be seen as a sequence of values (each day is a step), and thus you can predict the closing value of the next day, knowing the past."
      ]
    },
    {
      "cell_type": "markdown",
      "metadata": {
        "id": "V1rFlNvOp206"
      },
      "source": [
        "First, load the dataset `all_stocks_5yr.csv`, which contains all the stock market values over 5 years for many companies. Then explore it."
      ]
    },
    {
      "cell_type": "code",
      "execution_count": 1,
      "metadata": {
        "id": "GVgWigaXp207"
      },
      "outputs": [],
      "source": [
        "# TODO: Load the dataset and explore it\n",
        "### STRIP_START ###\n",
        "\n",
        "### STRIP_END ###"
      ]
    },
    {
      "cell_type": "code",
      "execution_count": 2,
      "metadata": {
        "scrolled": true,
        "id": "UzVCmXMKp208"
      },
      "outputs": [],
      "source": [
        "# TODO: Load the dataset and explore it\n",
        "### STRIP_START ###\n",
        "\n",
        "### STRIP_END ###"
      ]
    },
    {
      "cell_type": "markdown",
      "metadata": {
        "id": "Y3XhRB8Gp209"
      },
      "source": [
        "The column name represent the name of the stock, for example `'AAL'` stands for American Airlines.\n",
        "\n",
        "Select a name for which you have many information (i.e. the more lines), and plot the `close` value of this stock as a function of time. This represents the stock market evolution."
      ]
    },
    {
      "cell_type": "code",
      "execution_count": 3,
      "metadata": {
        "scrolled": true,
        "id": "hQTaVjx-p20-"
      },
      "outputs": [],
      "source": [
        "# TODO: Plot the stock market evolution of a given name\n",
        "### STRIP_START ###\n",
        "\n",
        "### STRIP_END ###"
      ]
    },
    {
      "cell_type": "code",
      "execution_count": 4,
      "metadata": {
        "id": "3X-ZMHRJp20_"
      },
      "outputs": [],
      "source": [
        "# TODO: Plot the stock market evolution of a given name\n",
        "### STRIP_START ###\n",
        "\n",
        "### STRIP_END ###"
      ]
    },
    {
      "cell_type": "markdown",
      "metadata": {
        "id": "l5UNyup9p21A"
      },
      "source": [
        "We will now try to make a prediction of this close value of a day, based on all the features (`open`, `high`, `low`, `close`, `volume`) of the 30 past days.\n",
        "\n",
        "Before doing so, we need to create the (X, y) dataset!\n",
        "\n",
        "Let's consider your action `Name` has 100 lines.\n",
        "\n",
        "The `X` values should contain, in each line, a table of 30 days and 5 features (`open`, `high`, `low`, `close`, `volume`). So that the final `X` array will have the shape `(69, 30, 5)`.\n",
        "\n",
        "This `y` values should be the `close` values of the days 31 to last (indeed, `y` can not contain the 30 first days, since we need 30 days of X to predict before). So the final `y` array will have the shape `(69, 1)` (or equivalently `(69,)`)."
      ]
    },
    {
      "cell_type": "code",
      "execution_count": null,
      "metadata": {
        "id": "WULWHNXOp21A",
        "outputId": "057fa490-8abf-4a55-b51b-16121ac458d1"
      },
      "outputs": [
        {
          "data": {
            "text/plain": [
              "((1228, 30, 5), (1228,))"
            ]
          },
          "execution_count": 27,
          "metadata": {},
          "output_type": "execute_result"
        }
      ],
      "source": [
        "# TODO: compute X and y\n",
        "### STRIP_START ###\n",
        "\n",
        "### STRIP_END ###"
      ]
    },
    {
      "cell_type": "markdown",
      "metadata": {
        "id": "AuFuGX91p21A"
      },
      "source": [
        "You already know the next step: prepare and split the data. Be careful, we want to keep the order in sequence..."
      ]
    },
    {
      "cell_type": "code",
      "execution_count": null,
      "metadata": {
        "id": "GhZoqjwGp21B"
      },
      "outputs": [],
      "source": [
        "# TODO: Prepare and split the data\n",
        "### STRIP_START ###\n",
        "\n",
        "### STRIP_END ###"
      ]
    },
    {
      "cell_type": "markdown",
      "metadata": {
        "id": "4iXD9_mNp21B"
      },
      "source": [
        "Now that the data is ready, build a RNN model (for example begin with 2 layers of 16 units), compile it and train it."
      ]
    },
    {
      "cell_type": "code",
      "execution_count": 5,
      "metadata": {
        "scrolled": true,
        "id": "jTXU5QcTp21B"
      },
      "outputs": [],
      "source": [
        "# TODO: Train your RNN model\n",
        "### STRIP_START ###\n",
        "\n",
        "### STRIP_END ###"
      ]
    },
    {
      "cell_type": "markdown",
      "metadata": {
        "id": "h6a8cTCap21C"
      },
      "source": [
        "Finally, plot the results: display on the same plot `y_train`, `y_test` and the prediction of `y_test`."
      ]
    },
    {
      "cell_type": "code",
      "execution_count": 6,
      "metadata": {
        "id": "qxfIIOxzp21C"
      },
      "outputs": [],
      "source": [
        "# TODO: Plot the results\n",
        "### STRIP_START ###\n",
        "\n",
        "\n",
        "\n",
        "### STRIP_END ###"
      ]
    },
    {
      "cell_type": "markdown",
      "metadata": {
        "id": "Lj8ClG1Ep21D"
      },
      "source": [
        "You can try to improve your model by adding as features the information of other actions. As you know, in stock market, most of the information that impacts it is out of the stock market information itself."
      ]
    }
  ],
  "metadata": {
    "kernelspec": {
      "display_name": "Python 3",
      "language": "python",
      "name": "python3"
    },
    "language_info": {
      "codemirror_mode": {
        "name": "ipython",
        "version": 3
      },
      "file_extension": ".py",
      "mimetype": "text/x-python",
      "name": "python",
      "nbconvert_exporter": "python",
      "pygments_lexer": "ipython3",
      "version": "3.6.7"
    },
    "colab": {
      "provenance": []
    }
  },
  "nbformat": 4,
  "nbformat_minor": 0
}