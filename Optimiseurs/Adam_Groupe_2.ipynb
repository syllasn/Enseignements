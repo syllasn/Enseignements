{
 "cells": [
  {
   "attachments": {},
   "cell_type": "markdown",
   "id": "828b7613-b4a9-453a-ab6c-4375c4429a5b",
   "metadata": {},
   "source": [
    "# Présentation de l'optimizer ADAM"
   ]
  },
  {
   "attachments": {},
   "cell_type": "markdown",
   "id": "ea60bc56-90cc-4311-981e-ac050d6e5e6b",
   "metadata": {},
   "source": [
    "## Adam Adaptive Moment Estimation\n",
    "\n",
    "Adam optimizer est la version étendue de la descente de gradient stochastique qui pourrait être implémentée dans diverses applications d’apprentissage profond telles que la vision par ordinateur et le traitement du langage naturel. Adam a été présenté pour la première fois en 2014. Il a été présenté pour la première fois lors d’une célèbre conférence pour les chercheurs en apprentissage profond appelée ICLR 2015. \n",
    "\n",
    "L’optimiseur est appelé Adam car il utilise des estimations des premier et deuxième moments du gradient pour adapter le taux d’apprentissage à chaque poids du réseau neuronal.\n",
    "\n",
    "Avant Adam, de nombreuses techniques d’optimisation adaptative ont été introduites telles que AdaGrad, RMSP qui ont de bonnes performances par rapport à SGD mais dans certains cas présentent certains inconvénients tels que la généralisation des performances qui sont pires que celles du SGD dans certains cas. Donc, Adam a été introduit, ce qui est mieux en termes de généralisation de la performance. \n",
    "\n",
    "Toujours dans Adam, les hyperparamètres ont des interprétations intuitives et nécessitent donc moins d’accordage. \n",
    "\n",
    "Adam performe bien. Mais dans certains cas, les chercheurs ont observé qu’Adam ne converge pas vers la solution optimale, l’optimiseur SGD le fait à la place. Dans un ensemble diversifié de tâches d’apprentissage en profondeur, les optimiseurs Adam ont parfois de faibles performances de généralisation. Selon l’auteur Nitish Shirish Keskar et Richard Socher, le passage à SGD dans certains cas montre une meilleure performance de généralisation qu’Adam seul"
   ]
  },
  {
   "attachments": {},
   "cell_type": "markdown",
   "id": "fda6a940",
   "metadata": {},
   "source": [
    "## Fonctionnement"
   ]
  },
  {
   "attachments": {},
   "cell_type": "markdown",
   "id": "9ef3452f",
   "metadata": {},
   "source": [
    "Adam utilise une combinaison de techniques pour trouver la meilleure configuration de poids :\n",
    "\n",
    "- Tout d'abord, Adam maintient un taux d'apprentissage adaptatif pour chaque poids. Cela signifie qu'il ajuste automatiquement la taille des pas pour mettre à jour chaque poids. Certains poids peuvent nécessiter de plus petits pas, tandis que d'autres peuvent nécessiter de plus grands pas.\n",
    "\n",
    "- Adam utilise des estimations du premier et du second moment des gradients pour ajuster les taux d'apprentissage. Les gradients représentent les indications sur la direction dans laquelle vous devez ajuster les poids. Les estimations du premier moment indiquent comment les gradients changent au fil du temps, tandis que les estimations du second moment indiquent à quel point les gradients varient.\n",
    "\n",
    "- En utilisant ces estimations, Adam effectue des mises à jour des poids en ajustant les taux d'apprentissage pour chaque poids individuel. Cela permet de prendre en compte la nature spécifique de chaque poids lors de la mise à jour.\n",
    "\n",
    "L'avantage d'Adam est qu'il permet une convergence plus rapide de l'entraînement du modèle. Il est efficace pour les problèmes avec des données de grande dimension ou des fonctions coûts complexes.\n",
    "\n",
    "En résumé, l'optimiseur Adam est un algorithme qui permet d'ajuster les poids d'un modèle de manière intelligente en utilisant des taux d'apprentissage adaptatifs et des estimations des gradients. Cela permet de trouver plus rapidement la meilleure configuration de poids pour un modèle d'apprentissage automatique.\n",
    "\n"
   ]
  },
  {
   "attachments": {},
   "cell_type": "markdown",
   "id": "9fc94a7b-ec0e-4c4b-ae66-a8e9224b9b68",
   "metadata": {},
   "source": [
    "### Essaie d'utilisation de Adam sur le dataset Breast_Cancer"
   ]
  },
  {
   "cell_type": "code",
   "execution_count": 154,
   "id": "91f5cdc1-7be2-4e36-b3e2-60a69bea9429",
   "metadata": {},
   "outputs": [],
   "source": [
    "import numpy as np\n",
    "import pandas as pd\n",
    "import matplotlib.pyplot as plt\n",
    "import sklearn.datasets\n",
    "from sklearn.model_selection import train_test_split"
   ]
  },
  {
   "cell_type": "code",
   "execution_count": 155,
   "id": "9f97cf41-6323-495c-8ece-d92e082ea4df",
   "metadata": {},
   "outputs": [],
   "source": [
    "# loading the data from sklearn\n",
    "breast_cancer_dataset = sklearn.datasets.load_breast_cancer()"
   ]
  },
  {
   "cell_type": "code",
   "execution_count": 156,
   "id": "e68737c5-4af4-4f6e-bf60-b6a07e40c019",
   "metadata": {},
   "outputs": [],
   "source": [
    "# loading the data to a data frame\n",
    "data_frame = pd.DataFrame(breast_cancer_dataset.data, columns = breast_cancer_dataset.feature_names)"
   ]
  },
  {
   "cell_type": "code",
   "execution_count": 157,
   "id": "a87e6de0",
   "metadata": {},
   "outputs": [
    {
     "data": {
      "text/html": [
       "<div>\n",
       "<style scoped>\n",
       "    .dataframe tbody tr th:only-of-type {\n",
       "        vertical-align: middle;\n",
       "    }\n",
       "\n",
       "    .dataframe tbody tr th {\n",
       "        vertical-align: top;\n",
       "    }\n",
       "\n",
       "    .dataframe thead th {\n",
       "        text-align: right;\n",
       "    }\n",
       "</style>\n",
       "<table border=\"1\" class=\"dataframe\">\n",
       "  <thead>\n",
       "    <tr style=\"text-align: right;\">\n",
       "      <th></th>\n",
       "      <th>mean radius</th>\n",
       "      <th>mean texture</th>\n",
       "      <th>mean perimeter</th>\n",
       "      <th>mean area</th>\n",
       "      <th>mean smoothness</th>\n",
       "      <th>mean compactness</th>\n",
       "      <th>mean concavity</th>\n",
       "      <th>mean concave points</th>\n",
       "      <th>mean symmetry</th>\n",
       "      <th>mean fractal dimension</th>\n",
       "      <th>...</th>\n",
       "      <th>worst radius</th>\n",
       "      <th>worst texture</th>\n",
       "      <th>worst perimeter</th>\n",
       "      <th>worst area</th>\n",
       "      <th>worst smoothness</th>\n",
       "      <th>worst compactness</th>\n",
       "      <th>worst concavity</th>\n",
       "      <th>worst concave points</th>\n",
       "      <th>worst symmetry</th>\n",
       "      <th>worst fractal dimension</th>\n",
       "    </tr>\n",
       "  </thead>\n",
       "  <tbody>\n",
       "    <tr>\n",
       "      <th>0</th>\n",
       "      <td>17.99</td>\n",
       "      <td>10.38</td>\n",
       "      <td>122.80</td>\n",
       "      <td>1001.0</td>\n",
       "      <td>0.11840</td>\n",
       "      <td>0.27760</td>\n",
       "      <td>0.3001</td>\n",
       "      <td>0.14710</td>\n",
       "      <td>0.2419</td>\n",
       "      <td>0.07871</td>\n",
       "      <td>...</td>\n",
       "      <td>25.38</td>\n",
       "      <td>17.33</td>\n",
       "      <td>184.60</td>\n",
       "      <td>2019.0</td>\n",
       "      <td>0.1622</td>\n",
       "      <td>0.6656</td>\n",
       "      <td>0.7119</td>\n",
       "      <td>0.2654</td>\n",
       "      <td>0.4601</td>\n",
       "      <td>0.11890</td>\n",
       "    </tr>\n",
       "    <tr>\n",
       "      <th>1</th>\n",
       "      <td>20.57</td>\n",
       "      <td>17.77</td>\n",
       "      <td>132.90</td>\n",
       "      <td>1326.0</td>\n",
       "      <td>0.08474</td>\n",
       "      <td>0.07864</td>\n",
       "      <td>0.0869</td>\n",
       "      <td>0.07017</td>\n",
       "      <td>0.1812</td>\n",
       "      <td>0.05667</td>\n",
       "      <td>...</td>\n",
       "      <td>24.99</td>\n",
       "      <td>23.41</td>\n",
       "      <td>158.80</td>\n",
       "      <td>1956.0</td>\n",
       "      <td>0.1238</td>\n",
       "      <td>0.1866</td>\n",
       "      <td>0.2416</td>\n",
       "      <td>0.1860</td>\n",
       "      <td>0.2750</td>\n",
       "      <td>0.08902</td>\n",
       "    </tr>\n",
       "    <tr>\n",
       "      <th>2</th>\n",
       "      <td>19.69</td>\n",
       "      <td>21.25</td>\n",
       "      <td>130.00</td>\n",
       "      <td>1203.0</td>\n",
       "      <td>0.10960</td>\n",
       "      <td>0.15990</td>\n",
       "      <td>0.1974</td>\n",
       "      <td>0.12790</td>\n",
       "      <td>0.2069</td>\n",
       "      <td>0.05999</td>\n",
       "      <td>...</td>\n",
       "      <td>23.57</td>\n",
       "      <td>25.53</td>\n",
       "      <td>152.50</td>\n",
       "      <td>1709.0</td>\n",
       "      <td>0.1444</td>\n",
       "      <td>0.4245</td>\n",
       "      <td>0.4504</td>\n",
       "      <td>0.2430</td>\n",
       "      <td>0.3613</td>\n",
       "      <td>0.08758</td>\n",
       "    </tr>\n",
       "    <tr>\n",
       "      <th>3</th>\n",
       "      <td>11.42</td>\n",
       "      <td>20.38</td>\n",
       "      <td>77.58</td>\n",
       "      <td>386.1</td>\n",
       "      <td>0.14250</td>\n",
       "      <td>0.28390</td>\n",
       "      <td>0.2414</td>\n",
       "      <td>0.10520</td>\n",
       "      <td>0.2597</td>\n",
       "      <td>0.09744</td>\n",
       "      <td>...</td>\n",
       "      <td>14.91</td>\n",
       "      <td>26.50</td>\n",
       "      <td>98.87</td>\n",
       "      <td>567.7</td>\n",
       "      <td>0.2098</td>\n",
       "      <td>0.8663</td>\n",
       "      <td>0.6869</td>\n",
       "      <td>0.2575</td>\n",
       "      <td>0.6638</td>\n",
       "      <td>0.17300</td>\n",
       "    </tr>\n",
       "    <tr>\n",
       "      <th>4</th>\n",
       "      <td>20.29</td>\n",
       "      <td>14.34</td>\n",
       "      <td>135.10</td>\n",
       "      <td>1297.0</td>\n",
       "      <td>0.10030</td>\n",
       "      <td>0.13280</td>\n",
       "      <td>0.1980</td>\n",
       "      <td>0.10430</td>\n",
       "      <td>0.1809</td>\n",
       "      <td>0.05883</td>\n",
       "      <td>...</td>\n",
       "      <td>22.54</td>\n",
       "      <td>16.67</td>\n",
       "      <td>152.20</td>\n",
       "      <td>1575.0</td>\n",
       "      <td>0.1374</td>\n",
       "      <td>0.2050</td>\n",
       "      <td>0.4000</td>\n",
       "      <td>0.1625</td>\n",
       "      <td>0.2364</td>\n",
       "      <td>0.07678</td>\n",
       "    </tr>\n",
       "  </tbody>\n",
       "</table>\n",
       "<p>5 rows × 30 columns</p>\n",
       "</div>"
      ],
      "text/plain": [
       "   mean radius  mean texture  mean perimeter  mean area  mean smoothness   \n",
       "0        17.99         10.38          122.80     1001.0          0.11840  \\\n",
       "1        20.57         17.77          132.90     1326.0          0.08474   \n",
       "2        19.69         21.25          130.00     1203.0          0.10960   \n",
       "3        11.42         20.38           77.58      386.1          0.14250   \n",
       "4        20.29         14.34          135.10     1297.0          0.10030   \n",
       "\n",
       "   mean compactness  mean concavity  mean concave points  mean symmetry   \n",
       "0           0.27760          0.3001              0.14710         0.2419  \\\n",
       "1           0.07864          0.0869              0.07017         0.1812   \n",
       "2           0.15990          0.1974              0.12790         0.2069   \n",
       "3           0.28390          0.2414              0.10520         0.2597   \n",
       "4           0.13280          0.1980              0.10430         0.1809   \n",
       "\n",
       "   mean fractal dimension  ...  worst radius  worst texture  worst perimeter   \n",
       "0                 0.07871  ...         25.38          17.33           184.60  \\\n",
       "1                 0.05667  ...         24.99          23.41           158.80   \n",
       "2                 0.05999  ...         23.57          25.53           152.50   \n",
       "3                 0.09744  ...         14.91          26.50            98.87   \n",
       "4                 0.05883  ...         22.54          16.67           152.20   \n",
       "\n",
       "   worst area  worst smoothness  worst compactness  worst concavity   \n",
       "0      2019.0            0.1622             0.6656           0.7119  \\\n",
       "1      1956.0            0.1238             0.1866           0.2416   \n",
       "2      1709.0            0.1444             0.4245           0.4504   \n",
       "3       567.7            0.2098             0.8663           0.6869   \n",
       "4      1575.0            0.1374             0.2050           0.4000   \n",
       "\n",
       "   worst concave points  worst symmetry  worst fractal dimension  \n",
       "0                0.2654          0.4601                  0.11890  \n",
       "1                0.1860          0.2750                  0.08902  \n",
       "2                0.2430          0.3613                  0.08758  \n",
       "3                0.2575          0.6638                  0.17300  \n",
       "4                0.1625          0.2364                  0.07678  \n",
       "\n",
       "[5 rows x 30 columns]"
      ]
     },
     "execution_count": 157,
     "metadata": {},
     "output_type": "execute_result"
    }
   ],
   "source": [
    "# print the first 5 rows of the dataframe\n",
    "data_frame.head()"
   ]
  },
  {
   "cell_type": "code",
   "execution_count": 158,
   "id": "e4a3b259",
   "metadata": {},
   "outputs": [],
   "source": [
    "# adding the 'target' column to the data frame\n",
    "data_frame['label'] = breast_cancer_dataset.target"
   ]
  },
  {
   "cell_type": "code",
   "execution_count": 159,
   "id": "8f13d19d",
   "metadata": {},
   "outputs": [
    {
     "data": {
      "text/plain": [
       "label\n",
       "1    357\n",
       "0    212\n",
       "Name: count, dtype: int64"
      ]
     },
     "execution_count": 159,
     "metadata": {},
     "output_type": "execute_result"
    }
   ],
   "source": [
    "# checking the distribution of Target Varibale\n",
    "data_frame['label'].value_counts()"
   ]
  },
  {
   "attachments": {},
   "cell_type": "markdown",
   "id": "494e045e",
   "metadata": {},
   "source": [
    "1 --> Benign\n",
    "\n",
    "0 --> Malignant"
   ]
  },
  {
   "cell_type": "code",
   "execution_count": 160,
   "id": "aa4c551b",
   "metadata": {},
   "outputs": [],
   "source": [
    "# Separating data\n",
    "\n",
    "X = data_frame.drop(columns='label', axis=1)\n",
    "Y = data_frame['label']"
   ]
  },
  {
   "cell_type": "code",
   "execution_count": 161,
   "id": "b5208a5e",
   "metadata": {},
   "outputs": [],
   "source": [
    "# Spliting data\n",
    "X_train, X_test, Y_train, Y_test = train_test_split(X, Y, test_size=0.2, random_state=2)"
   ]
  },
  {
   "cell_type": "code",
   "execution_count": 162,
   "id": "be144909",
   "metadata": {},
   "outputs": [],
   "source": [
    "from sklearn.preprocessing import StandardScaler\n",
    "\n",
    "scaler = StandardScaler()\n",
    "\n",
    "X_train_std = scaler.fit_transform(X_train)\n",
    "\n",
    "X_test_std = scaler.transform(X_test)"
   ]
  },
  {
   "cell_type": "code",
   "execution_count": 163,
   "id": "34e7c6bd",
   "metadata": {},
   "outputs": [],
   "source": [
    "# importing tensorflow and Keras\n",
    "import tensorflow as tf \n",
    "from tensorflow import keras"
   ]
  },
  {
   "cell_type": "code",
   "execution_count": 164,
   "id": "837353a2",
   "metadata": {},
   "outputs": [],
   "source": [
    "# setting up the layers of Neural Network\n",
    "\n",
    "model = keras.Sequential([\n",
    "                          keras.layers.Flatten(input_shape=(30,)),\n",
    "                          keras.layers.Dense(20, activation='relu'),\n",
    "                          keras.layers.Dense(2, activation='sigmoid')\n",
    "])"
   ]
  },
  {
   "cell_type": "code",
   "execution_count": 165,
   "id": "8fb1c0e4",
   "metadata": {},
   "outputs": [],
   "source": [
    "# setting up the layers of Neural Network\n",
    "\n",
    "# compiling the Neural Network\n",
    "\n",
    "model.compile(optimizer='adam',\n",
    "              loss='sparse_categorical_crossentropy',\n",
    "              metrics=['accuracy'])"
   ]
  },
  {
   "cell_type": "code",
   "execution_count": 166,
   "id": "8b08f1cf",
   "metadata": {},
   "outputs": [
    {
     "name": "stdout",
     "output_type": "stream",
     "text": [
      "Epoch 1/50\n",
      "13/13 [==============================] - 1s 22ms/step - loss: 0.6108 - accuracy: 0.6308 - val_loss: 0.4684 - val_accuracy: 0.7826\n",
      "Epoch 2/50\n",
      "13/13 [==============================] - 0s 5ms/step - loss: 0.4457 - accuracy: 0.8215 - val_loss: 0.3408 - val_accuracy: 0.9783\n",
      "Epoch 3/50\n",
      "13/13 [==============================] - 0s 6ms/step - loss: 0.3463 - accuracy: 0.8900 - val_loss: 0.2638 - val_accuracy: 0.9783\n",
      "Epoch 4/50\n",
      "13/13 [==============================] - 0s 5ms/step - loss: 0.2815 - accuracy: 0.9218 - val_loss: 0.2116 - val_accuracy: 0.9783\n",
      "Epoch 5/50\n",
      "13/13 [==============================] - 0s 5ms/step - loss: 0.2333 - accuracy: 0.9364 - val_loss: 0.1768 - val_accuracy: 0.9783\n",
      "Epoch 6/50\n",
      "13/13 [==============================] - 0s 6ms/step - loss: 0.1995 - accuracy: 0.9462 - val_loss: 0.1530 - val_accuracy: 0.9783\n",
      "Epoch 7/50\n",
      "13/13 [==============================] - 0s 6ms/step - loss: 0.1750 - accuracy: 0.9511 - val_loss: 0.1363 - val_accuracy: 0.9783\n",
      "Epoch 8/50\n",
      "13/13 [==============================] - 0s 5ms/step - loss: 0.1559 - accuracy: 0.9584 - val_loss: 0.1244 - val_accuracy: 0.9783\n",
      "Epoch 9/50\n",
      "13/13 [==============================] - 0s 5ms/step - loss: 0.1413 - accuracy: 0.9609 - val_loss: 0.1153 - val_accuracy: 0.9783\n",
      "Epoch 10/50\n",
      "13/13 [==============================] - 0s 11ms/step - loss: 0.1294 - accuracy: 0.9682 - val_loss: 0.1090 - val_accuracy: 0.9783\n",
      "Epoch 11/50\n",
      "13/13 [==============================] - 0s 8ms/step - loss: 0.1206 - accuracy: 0.9731 - val_loss: 0.1036 - val_accuracy: 0.9783\n",
      "Epoch 12/50\n",
      "13/13 [==============================] - 0s 7ms/step - loss: 0.1123 - accuracy: 0.9780 - val_loss: 0.0994 - val_accuracy: 0.9783\n",
      "Epoch 13/50\n",
      "13/13 [==============================] - 0s 5ms/step - loss: 0.1056 - accuracy: 0.9804 - val_loss: 0.0958 - val_accuracy: 0.9783\n",
      "Epoch 14/50\n",
      "13/13 [==============================] - 0s 5ms/step - loss: 0.0999 - accuracy: 0.9804 - val_loss: 0.0927 - val_accuracy: 0.9783\n",
      "Epoch 15/50\n",
      "13/13 [==============================] - 0s 5ms/step - loss: 0.0949 - accuracy: 0.9804 - val_loss: 0.0900 - val_accuracy: 0.9783\n",
      "Epoch 16/50\n",
      "13/13 [==============================] - 0s 5ms/step - loss: 0.0905 - accuracy: 0.9804 - val_loss: 0.0882 - val_accuracy: 0.9783\n",
      "Epoch 17/50\n",
      "13/13 [==============================] - 0s 5ms/step - loss: 0.0865 - accuracy: 0.9804 - val_loss: 0.0862 - val_accuracy: 0.9783\n",
      "Epoch 18/50\n",
      "13/13 [==============================] - 0s 7ms/step - loss: 0.0829 - accuracy: 0.9829 - val_loss: 0.0846 - val_accuracy: 0.9783\n",
      "Epoch 19/50\n",
      "13/13 [==============================] - 0s 5ms/step - loss: 0.0801 - accuracy: 0.9853 - val_loss: 0.0824 - val_accuracy: 0.9783\n",
      "Epoch 20/50\n",
      "13/13 [==============================] - 0s 5ms/step - loss: 0.0771 - accuracy: 0.9853 - val_loss: 0.0815 - val_accuracy: 0.9783\n",
      "Epoch 21/50\n",
      "13/13 [==============================] - 0s 4ms/step - loss: 0.0745 - accuracy: 0.9853 - val_loss: 0.0806 - val_accuracy: 0.9783\n",
      "Epoch 22/50\n",
      "13/13 [==============================] - 0s 4ms/step - loss: 0.0721 - accuracy: 0.9853 - val_loss: 0.0793 - val_accuracy: 0.9783\n",
      "Epoch 23/50\n",
      "13/13 [==============================] - 0s 5ms/step - loss: 0.0699 - accuracy: 0.9853 - val_loss: 0.0786 - val_accuracy: 0.9783\n",
      "Epoch 24/50\n",
      "13/13 [==============================] - 0s 5ms/step - loss: 0.0681 - accuracy: 0.9878 - val_loss: 0.0784 - val_accuracy: 0.9783\n",
      "Epoch 25/50\n",
      "13/13 [==============================] - 0s 5ms/step - loss: 0.0661 - accuracy: 0.9878 - val_loss: 0.0777 - val_accuracy: 0.9783\n",
      "Epoch 26/50\n",
      "13/13 [==============================] - 0s 4ms/step - loss: 0.0645 - accuracy: 0.9878 - val_loss: 0.0775 - val_accuracy: 0.9783\n",
      "Epoch 27/50\n",
      "13/13 [==============================] - 0s 4ms/step - loss: 0.0628 - accuracy: 0.9878 - val_loss: 0.0770 - val_accuracy: 0.9783\n",
      "Epoch 28/50\n",
      "13/13 [==============================] - 0s 4ms/step - loss: 0.0614 - accuracy: 0.9878 - val_loss: 0.0767 - val_accuracy: 0.9783\n",
      "Epoch 29/50\n",
      "13/13 [==============================] - 0s 4ms/step - loss: 0.0600 - accuracy: 0.9878 - val_loss: 0.0762 - val_accuracy: 0.9783\n",
      "Epoch 30/50\n",
      "13/13 [==============================] - 0s 5ms/step - loss: 0.0586 - accuracy: 0.9878 - val_loss: 0.0758 - val_accuracy: 0.9783\n",
      "Epoch 31/50\n",
      "13/13 [==============================] - 0s 4ms/step - loss: 0.0573 - accuracy: 0.9878 - val_loss: 0.0756 - val_accuracy: 0.9783\n",
      "Epoch 32/50\n",
      "13/13 [==============================] - 0s 5ms/step - loss: 0.0561 - accuracy: 0.9878 - val_loss: 0.0751 - val_accuracy: 0.9783\n",
      "Epoch 33/50\n",
      "13/13 [==============================] - 0s 4ms/step - loss: 0.0551 - accuracy: 0.9878 - val_loss: 0.0751 - val_accuracy: 0.9783\n",
      "Epoch 34/50\n",
      "13/13 [==============================] - 0s 5ms/step - loss: 0.0540 - accuracy: 0.9878 - val_loss: 0.0746 - val_accuracy: 0.9783\n",
      "Epoch 35/50\n",
      "13/13 [==============================] - 0s 5ms/step - loss: 0.0530 - accuracy: 0.9878 - val_loss: 0.0746 - val_accuracy: 0.9783\n",
      "Epoch 36/50\n",
      "13/13 [==============================] - 0s 5ms/step - loss: 0.0520 - accuracy: 0.9878 - val_loss: 0.0746 - val_accuracy: 0.9783\n",
      "Epoch 37/50\n",
      "13/13 [==============================] - 0s 4ms/step - loss: 0.0511 - accuracy: 0.9878 - val_loss: 0.0738 - val_accuracy: 0.9783\n",
      "Epoch 38/50\n",
      "13/13 [==============================] - 0s 4ms/step - loss: 0.0502 - accuracy: 0.9878 - val_loss: 0.0737 - val_accuracy: 0.9783\n",
      "Epoch 39/50\n",
      "13/13 [==============================] - 0s 4ms/step - loss: 0.0491 - accuracy: 0.9878 - val_loss: 0.0734 - val_accuracy: 0.9783\n",
      "Epoch 40/50\n",
      "13/13 [==============================] - 0s 4ms/step - loss: 0.0484 - accuracy: 0.9878 - val_loss: 0.0727 - val_accuracy: 0.9783\n",
      "Epoch 41/50\n",
      "13/13 [==============================] - 0s 5ms/step - loss: 0.0476 - accuracy: 0.9878 - val_loss: 0.0732 - val_accuracy: 0.9783\n",
      "Epoch 42/50\n",
      "13/13 [==============================] - 0s 4ms/step - loss: 0.0469 - accuracy: 0.9878 - val_loss: 0.0727 - val_accuracy: 0.9783\n",
      "Epoch 43/50\n",
      "13/13 [==============================] - 0s 4ms/step - loss: 0.0459 - accuracy: 0.9878 - val_loss: 0.0722 - val_accuracy: 0.9783\n",
      "Epoch 44/50\n",
      "13/13 [==============================] - 0s 4ms/step - loss: 0.0451 - accuracy: 0.9902 - val_loss: 0.0719 - val_accuracy: 0.9783\n",
      "Epoch 45/50\n",
      "13/13 [==============================] - 0s 5ms/step - loss: 0.0443 - accuracy: 0.9902 - val_loss: 0.0710 - val_accuracy: 0.9783\n",
      "Epoch 46/50\n",
      "13/13 [==============================] - 0s 4ms/step - loss: 0.0438 - accuracy: 0.9902 - val_loss: 0.0714 - val_accuracy: 0.9783\n",
      "Epoch 47/50\n",
      "13/13 [==============================] - 0s 5ms/step - loss: 0.0431 - accuracy: 0.9902 - val_loss: 0.0711 - val_accuracy: 0.9783\n",
      "Epoch 48/50\n",
      "13/13 [==============================] - 0s 4ms/step - loss: 0.0422 - accuracy: 0.9902 - val_loss: 0.0716 - val_accuracy: 0.9783\n",
      "Epoch 49/50\n",
      "13/13 [==============================] - 0s 5ms/step - loss: 0.0415 - accuracy: 0.9902 - val_loss: 0.0707 - val_accuracy: 0.9783\n",
      "Epoch 50/50\n",
      "13/13 [==============================] - 0s 4ms/step - loss: 0.0408 - accuracy: 0.9902 - val_loss: 0.0704 - val_accuracy: 0.9783\n"
     ]
    },
    {
     "data": {
      "text/plain": [
       "<keras.callbacks.History at 0x13fcbd890>"
      ]
     },
     "execution_count": 166,
     "metadata": {},
     "output_type": "execute_result"
    }
   ],
   "source": [
    "model.fit(X_train_std, Y_train, validation_split=0.1, epochs=50)"
   ]
  },
  {
   "cell_type": "code",
   "execution_count": 167,
   "id": "beff37ce",
   "metadata": {},
   "outputs": [
    {
     "name": "stdout",
     "output_type": "stream",
     "text": [
      "4/4 [==============================] - 0s 3ms/step - loss: 0.1056 - accuracy: 0.9649\n",
      "Accuracy :  0.9649122953414917\n",
      "Loss :  0.10563753545284271\n"
     ]
    }
   ],
   "source": [
    "loss_adam, accuracy_adam = model.evaluate(X_test_std, Y_test)\n",
    "print(\"Accuracy : \", accuracy_adam)\n",
    "print(\"Loss : \", loss_adam)\n"
   ]
  },
  {
   "attachments": {},
   "cell_type": "markdown",
   "id": "bd9ff09c",
   "metadata": {},
   "source": [
    "# Comparaison Avec SGD"
   ]
  },
  {
   "cell_type": "code",
   "execution_count": 170,
   "id": "03dc8ad0",
   "metadata": {},
   "outputs": [],
   "source": [
    "\n",
    "model.compile(optimizer='sgd',\n",
    "              loss='sparse_categorical_crossentropy',\n",
    "              metrics=['accuracy'])"
   ]
  },
  {
   "cell_type": "code",
   "execution_count": 171,
   "id": "70645dfd",
   "metadata": {},
   "outputs": [
    {
     "name": "stdout",
     "output_type": "stream",
     "text": [
      "Epoch 1/50\n",
      "13/13 [==============================] - 1s 20ms/step - loss: 0.0368 - accuracy: 0.9902 - val_loss: 0.0703 - val_accuracy: 0.9783\n",
      "Epoch 2/50\n",
      "13/13 [==============================] - 0s 5ms/step - loss: 0.0368 - accuracy: 0.9902 - val_loss: 0.0702 - val_accuracy: 0.9783\n",
      "Epoch 3/50\n",
      "13/13 [==============================] - 0s 5ms/step - loss: 0.0367 - accuracy: 0.9902 - val_loss: 0.0703 - val_accuracy: 0.9783\n",
      "Epoch 4/50\n",
      "13/13 [==============================] - 0s 6ms/step - loss: 0.0367 - accuracy: 0.9902 - val_loss: 0.0702 - val_accuracy: 0.9783\n",
      "Epoch 5/50\n",
      "13/13 [==============================] - 0s 6ms/step - loss: 0.0366 - accuracy: 0.9902 - val_loss: 0.0702 - val_accuracy: 0.9783\n",
      "Epoch 6/50\n",
      "13/13 [==============================] - 0s 6ms/step - loss: 0.0365 - accuracy: 0.9902 - val_loss: 0.0702 - val_accuracy: 0.9783\n",
      "Epoch 7/50\n",
      "13/13 [==============================] - 0s 6ms/step - loss: 0.0365 - accuracy: 0.9902 - val_loss: 0.0702 - val_accuracy: 0.9783\n",
      "Epoch 8/50\n",
      "13/13 [==============================] - 0s 5ms/step - loss: 0.0364 - accuracy: 0.9902 - val_loss: 0.0702 - val_accuracy: 0.9783\n",
      "Epoch 9/50\n",
      "13/13 [==============================] - 0s 5ms/step - loss: 0.0364 - accuracy: 0.9902 - val_loss: 0.0702 - val_accuracy: 0.9783\n",
      "Epoch 10/50\n",
      "13/13 [==============================] - 0s 5ms/step - loss: 0.0363 - accuracy: 0.9902 - val_loss: 0.0702 - val_accuracy: 0.9783\n",
      "Epoch 11/50\n",
      "13/13 [==============================] - 0s 5ms/step - loss: 0.0362 - accuracy: 0.9902 - val_loss: 0.0702 - val_accuracy: 0.9783\n",
      "Epoch 12/50\n",
      "13/13 [==============================] - 0s 5ms/step - loss: 0.0362 - accuracy: 0.9902 - val_loss: 0.0702 - val_accuracy: 0.9783\n",
      "Epoch 13/50\n",
      "13/13 [==============================] - 0s 5ms/step - loss: 0.0361 - accuracy: 0.9902 - val_loss: 0.0703 - val_accuracy: 0.9783\n",
      "Epoch 14/50\n",
      "13/13 [==============================] - 0s 5ms/step - loss: 0.0361 - accuracy: 0.9902 - val_loss: 0.0703 - val_accuracy: 0.9783\n",
      "Epoch 15/50\n",
      "13/13 [==============================] - 0s 6ms/step - loss: 0.0360 - accuracy: 0.9902 - val_loss: 0.0702 - val_accuracy: 0.9783\n",
      "Epoch 16/50\n",
      "13/13 [==============================] - 0s 6ms/step - loss: 0.0359 - accuracy: 0.9902 - val_loss: 0.0702 - val_accuracy: 0.9783\n",
      "Epoch 17/50\n",
      "13/13 [==============================] - 0s 5ms/step - loss: 0.0359 - accuracy: 0.9902 - val_loss: 0.0702 - val_accuracy: 0.9783\n",
      "Epoch 18/50\n",
      "13/13 [==============================] - 0s 4ms/step - loss: 0.0358 - accuracy: 0.9902 - val_loss: 0.0701 - val_accuracy: 0.9783\n",
      "Epoch 19/50\n",
      "13/13 [==============================] - 0s 5ms/step - loss: 0.0358 - accuracy: 0.9902 - val_loss: 0.0701 - val_accuracy: 0.9783\n",
      "Epoch 20/50\n",
      "13/13 [==============================] - 0s 5ms/step - loss: 0.0357 - accuracy: 0.9902 - val_loss: 0.0701 - val_accuracy: 0.9783\n",
      "Epoch 21/50\n",
      "13/13 [==============================] - 0s 5ms/step - loss: 0.0357 - accuracy: 0.9902 - val_loss: 0.0701 - val_accuracy: 0.9783\n",
      "Epoch 22/50\n",
      "13/13 [==============================] - 0s 7ms/step - loss: 0.0356 - accuracy: 0.9902 - val_loss: 0.0702 - val_accuracy: 0.9783\n",
      "Epoch 23/50\n",
      "13/13 [==============================] - 0s 5ms/step - loss: 0.0355 - accuracy: 0.9902 - val_loss: 0.0701 - val_accuracy: 0.9783\n",
      "Epoch 24/50\n",
      "13/13 [==============================] - 0s 5ms/step - loss: 0.0355 - accuracy: 0.9902 - val_loss: 0.0701 - val_accuracy: 0.9783\n",
      "Epoch 25/50\n",
      "13/13 [==============================] - 0s 5ms/step - loss: 0.0354 - accuracy: 0.9902 - val_loss: 0.0701 - val_accuracy: 0.9783\n",
      "Epoch 26/50\n",
      "13/13 [==============================] - 0s 4ms/step - loss: 0.0354 - accuracy: 0.9902 - val_loss: 0.0701 - val_accuracy: 0.9783\n",
      "Epoch 27/50\n",
      "13/13 [==============================] - 0s 5ms/step - loss: 0.0353 - accuracy: 0.9927 - val_loss: 0.0701 - val_accuracy: 0.9783\n",
      "Epoch 28/50\n",
      "13/13 [==============================] - 0s 5ms/step - loss: 0.0353 - accuracy: 0.9902 - val_loss: 0.0701 - val_accuracy: 0.9783\n",
      "Epoch 29/50\n",
      "13/13 [==============================] - 0s 5ms/step - loss: 0.0352 - accuracy: 0.9927 - val_loss: 0.0701 - val_accuracy: 0.9783\n",
      "Epoch 30/50\n",
      "13/13 [==============================] - 0s 4ms/step - loss: 0.0351 - accuracy: 0.9902 - val_loss: 0.0701 - val_accuracy: 0.9783\n",
      "Epoch 31/50\n",
      "13/13 [==============================] - 0s 5ms/step - loss: 0.0351 - accuracy: 0.9927 - val_loss: 0.0700 - val_accuracy: 0.9783\n",
      "Epoch 32/50\n",
      "13/13 [==============================] - 0s 4ms/step - loss: 0.0350 - accuracy: 0.9927 - val_loss: 0.0701 - val_accuracy: 0.9783\n",
      "Epoch 33/50\n",
      "13/13 [==============================] - 0s 4ms/step - loss: 0.0350 - accuracy: 0.9902 - val_loss: 0.0701 - val_accuracy: 0.9783\n",
      "Epoch 34/50\n",
      "13/13 [==============================] - 0s 4ms/step - loss: 0.0349 - accuracy: 0.9927 - val_loss: 0.0701 - val_accuracy: 0.9783\n",
      "Epoch 35/50\n",
      "13/13 [==============================] - 0s 4ms/step - loss: 0.0349 - accuracy: 0.9927 - val_loss: 0.0701 - val_accuracy: 0.9783\n",
      "Epoch 36/50\n",
      "13/13 [==============================] - 0s 4ms/step - loss: 0.0348 - accuracy: 0.9927 - val_loss: 0.0701 - val_accuracy: 0.9783\n",
      "Epoch 37/50\n",
      "13/13 [==============================] - 0s 4ms/step - loss: 0.0348 - accuracy: 0.9927 - val_loss: 0.0701 - val_accuracy: 0.9783\n",
      "Epoch 38/50\n",
      "13/13 [==============================] - 0s 4ms/step - loss: 0.0347 - accuracy: 0.9927 - val_loss: 0.0701 - val_accuracy: 0.9783\n",
      "Epoch 39/50\n",
      "13/13 [==============================] - 0s 4ms/step - loss: 0.0347 - accuracy: 0.9927 - val_loss: 0.0701 - val_accuracy: 0.9783\n",
      "Epoch 40/50\n",
      "13/13 [==============================] - 0s 4ms/step - loss: 0.0346 - accuracy: 0.9927 - val_loss: 0.0701 - val_accuracy: 0.9783\n",
      "Epoch 41/50\n",
      "13/13 [==============================] - 0s 5ms/step - loss: 0.0346 - accuracy: 0.9927 - val_loss: 0.0701 - val_accuracy: 0.9783\n",
      "Epoch 42/50\n",
      "13/13 [==============================] - 0s 4ms/step - loss: 0.0345 - accuracy: 0.9927 - val_loss: 0.0700 - val_accuracy: 0.9783\n",
      "Epoch 43/50\n",
      "13/13 [==============================] - 0s 5ms/step - loss: 0.0344 - accuracy: 0.9927 - val_loss: 0.0700 - val_accuracy: 0.9783\n",
      "Epoch 44/50\n",
      "13/13 [==============================] - 0s 4ms/step - loss: 0.0344 - accuracy: 0.9927 - val_loss: 0.0700 - val_accuracy: 0.9783\n",
      "Epoch 45/50\n",
      "13/13 [==============================] - 0s 5ms/step - loss: 0.0343 - accuracy: 0.9927 - val_loss: 0.0700 - val_accuracy: 0.9783\n",
      "Epoch 46/50\n",
      "13/13 [==============================] - 0s 5ms/step - loss: 0.0343 - accuracy: 0.9927 - val_loss: 0.0700 - val_accuracy: 0.9783\n",
      "Epoch 47/50\n",
      "13/13 [==============================] - 0s 5ms/step - loss: 0.0343 - accuracy: 0.9927 - val_loss: 0.0700 - val_accuracy: 0.9783\n",
      "Epoch 48/50\n",
      "13/13 [==============================] - 0s 5ms/step - loss: 0.0342 - accuracy: 0.9927 - val_loss: 0.0700 - val_accuracy: 0.9783\n",
      "Epoch 49/50\n",
      "13/13 [==============================] - 0s 5ms/step - loss: 0.0342 - accuracy: 0.9927 - val_loss: 0.0700 - val_accuracy: 0.9783\n",
      "Epoch 50/50\n",
      "13/13 [==============================] - 0s 4ms/step - loss: 0.0341 - accuracy: 0.9927 - val_loss: 0.0700 - val_accuracy: 0.9783\n"
     ]
    },
    {
     "data": {
      "text/plain": [
       "<keras.callbacks.History at 0x13ead2950>"
      ]
     },
     "execution_count": 171,
     "metadata": {},
     "output_type": "execute_result"
    }
   ],
   "source": [
    "model.fit(X_train_std, Y_train, validation_split=0.1, epochs=50)"
   ]
  },
  {
   "cell_type": "code",
   "execution_count": 172,
   "id": "d1d389c7",
   "metadata": {},
   "outputs": [
    {
     "name": "stdout",
     "output_type": "stream",
     "text": [
      "4/4 [==============================] - 0s 2ms/step - loss: 0.1078 - accuracy: 0.9649\n",
      "Accuracy :  0.9649122953414917\n",
      "Loss :  0.1078246459364891\n"
     ]
    }
   ],
   "source": [
    "loss_sgd, accuracy_sgd = model.evaluate(X_test_std, Y_test)\n",
    "print(\"Accuracy : \", accuracy_sgd)\n",
    "print(\"Loss : \", loss_sgd)\n"
   ]
  },
  {
   "attachments": {},
   "cell_type": "markdown",
   "id": "c20fe522",
   "metadata": {},
   "source": [
    "# Comparaison Avec rmsprop\n",
    "    "
   ]
  },
  {
   "cell_type": "code",
   "execution_count": 173,
   "id": "22ffc1f7",
   "metadata": {},
   "outputs": [
    {
     "name": "stdout",
     "output_type": "stream",
     "text": [
      "Epoch 1/50\n"
     ]
    },
    {
     "name": "stdout",
     "output_type": "stream",
     "text": [
      "13/13 [==============================] - 1s 20ms/step - loss: 0.0360 - accuracy: 0.9927 - val_loss: 0.0716 - val_accuracy: 0.9783\n",
      "Epoch 2/50\n",
      "13/13 [==============================] - 0s 5ms/step - loss: 0.0340 - accuracy: 0.9927 - val_loss: 0.0713 - val_accuracy: 0.9783\n",
      "Epoch 3/50\n",
      "13/13 [==============================] - 0s 5ms/step - loss: 0.0329 - accuracy: 0.9927 - val_loss: 0.0719 - val_accuracy: 0.9783\n",
      "Epoch 4/50\n",
      "13/13 [==============================] - 0s 5ms/step - loss: 0.0326 - accuracy: 0.9927 - val_loss: 0.0703 - val_accuracy: 0.9783\n",
      "Epoch 5/50\n",
      "13/13 [==============================] - 0s 20ms/step - loss: 0.0318 - accuracy: 0.9927 - val_loss: 0.0703 - val_accuracy: 0.9783\n",
      "Epoch 6/50\n",
      "13/13 [==============================] - 0s 5ms/step - loss: 0.0316 - accuracy: 0.9927 - val_loss: 0.0706 - val_accuracy: 0.9783\n",
      "Epoch 7/50\n",
      "13/13 [==============================] - 0s 5ms/step - loss: 0.0308 - accuracy: 0.9927 - val_loss: 0.0704 - val_accuracy: 0.9783\n",
      "Epoch 8/50\n",
      "13/13 [==============================] - 0s 5ms/step - loss: 0.0300 - accuracy: 0.9927 - val_loss: 0.0710 - val_accuracy: 0.9783\n",
      "Epoch 9/50\n",
      "13/13 [==============================] - 0s 5ms/step - loss: 0.0296 - accuracy: 0.9927 - val_loss: 0.0699 - val_accuracy: 0.9783\n",
      "Epoch 10/50\n",
      "13/13 [==============================] - 0s 5ms/step - loss: 0.0288 - accuracy: 0.9927 - val_loss: 0.0694 - val_accuracy: 0.9783\n",
      "Epoch 11/50\n",
      "13/13 [==============================] - 0s 5ms/step - loss: 0.0285 - accuracy: 0.9927 - val_loss: 0.0695 - val_accuracy: 0.9783\n",
      "Epoch 12/50\n",
      "13/13 [==============================] - 0s 6ms/step - loss: 0.0277 - accuracy: 0.9927 - val_loss: 0.0694 - val_accuracy: 0.9783\n",
      "Epoch 13/50\n",
      "13/13 [==============================] - 0s 5ms/step - loss: 0.0271 - accuracy: 0.9927 - val_loss: 0.0708 - val_accuracy: 0.9783\n",
      "Epoch 14/50\n",
      "13/13 [==============================] - 0s 5ms/step - loss: 0.0266 - accuracy: 0.9927 - val_loss: 0.0695 - val_accuracy: 0.9783\n",
      "Epoch 15/50\n",
      "13/13 [==============================] - 0s 5ms/step - loss: 0.0259 - accuracy: 0.9927 - val_loss: 0.0693 - val_accuracy: 0.9783\n",
      "Epoch 16/50\n",
      "13/13 [==============================] - 0s 5ms/step - loss: 0.0253 - accuracy: 0.9927 - val_loss: 0.0703 - val_accuracy: 0.9783\n",
      "Epoch 17/50\n",
      "13/13 [==============================] - 0s 5ms/step - loss: 0.0248 - accuracy: 0.9927 - val_loss: 0.0705 - val_accuracy: 0.9783\n",
      "Epoch 18/50\n",
      "13/13 [==============================] - 0s 5ms/step - loss: 0.0242 - accuracy: 0.9927 - val_loss: 0.0697 - val_accuracy: 0.9783\n",
      "Epoch 19/50\n",
      "13/13 [==============================] - 0s 5ms/step - loss: 0.0239 - accuracy: 0.9927 - val_loss: 0.0703 - val_accuracy: 0.9783\n",
      "Epoch 20/50\n",
      "13/13 [==============================] - 0s 5ms/step - loss: 0.0234 - accuracy: 0.9927 - val_loss: 0.0714 - val_accuracy: 0.9783\n",
      "Epoch 21/50\n",
      "13/13 [==============================] - 0s 5ms/step - loss: 0.0228 - accuracy: 0.9927 - val_loss: 0.0709 - val_accuracy: 0.9783\n",
      "Epoch 22/50\n",
      "13/13 [==============================] - 0s 5ms/step - loss: 0.0223 - accuracy: 0.9951 - val_loss: 0.0719 - val_accuracy: 0.9783\n",
      "Epoch 23/50\n",
      "13/13 [==============================] - 0s 5ms/step - loss: 0.0218 - accuracy: 0.9927 - val_loss: 0.0716 - val_accuracy: 0.9783\n",
      "Epoch 24/50\n",
      "13/13 [==============================] - 0s 4ms/step - loss: 0.0214 - accuracy: 0.9951 - val_loss: 0.0722 - val_accuracy: 0.9783\n",
      "Epoch 25/50\n",
      "13/13 [==============================] - 0s 5ms/step - loss: 0.0211 - accuracy: 0.9951 - val_loss: 0.0727 - val_accuracy: 0.9565\n",
      "Epoch 26/50\n",
      "13/13 [==============================] - 0s 8ms/step - loss: 0.0206 - accuracy: 0.9951 - val_loss: 0.0726 - val_accuracy: 0.9565\n",
      "Epoch 27/50\n",
      "13/13 [==============================] - 0s 7ms/step - loss: 0.0203 - accuracy: 0.9951 - val_loss: 0.0727 - val_accuracy: 0.9783\n",
      "Epoch 28/50\n",
      "13/13 [==============================] - 0s 6ms/step - loss: 0.0195 - accuracy: 0.9951 - val_loss: 0.0723 - val_accuracy: 0.9565\n",
      "Epoch 29/50\n",
      "13/13 [==============================] - 0s 7ms/step - loss: 0.0192 - accuracy: 0.9951 - val_loss: 0.0738 - val_accuracy: 0.9783\n",
      "Epoch 30/50\n",
      "13/13 [==============================] - 0s 7ms/step - loss: 0.0186 - accuracy: 0.9951 - val_loss: 0.0738 - val_accuracy: 0.9565\n",
      "Epoch 31/50\n",
      "13/13 [==============================] - 0s 6ms/step - loss: 0.0181 - accuracy: 0.9951 - val_loss: 0.0739 - val_accuracy: 0.9565\n",
      "Epoch 32/50\n",
      "13/13 [==============================] - 0s 6ms/step - loss: 0.0180 - accuracy: 0.9951 - val_loss: 0.0754 - val_accuracy: 0.9565\n",
      "Epoch 33/50\n",
      "13/13 [==============================] - 0s 5ms/step - loss: 0.0176 - accuracy: 0.9951 - val_loss: 0.0750 - val_accuracy: 0.9565\n",
      "Epoch 34/50\n",
      "13/13 [==============================] - 0s 5ms/step - loss: 0.0169 - accuracy: 0.9951 - val_loss: 0.0760 - val_accuracy: 0.9565\n",
      "Epoch 35/50\n",
      "13/13 [==============================] - 0s 6ms/step - loss: 0.0168 - accuracy: 0.9951 - val_loss: 0.0773 - val_accuracy: 0.9565\n",
      "Epoch 36/50\n",
      "13/13 [==============================] - 0s 7ms/step - loss: 0.0163 - accuracy: 0.9951 - val_loss: 0.0765 - val_accuracy: 0.9565\n",
      "Epoch 37/50\n",
      "13/13 [==============================] - 0s 7ms/step - loss: 0.0160 - accuracy: 0.9951 - val_loss: 0.0779 - val_accuracy: 0.9565\n",
      "Epoch 38/50\n",
      "13/13 [==============================] - 0s 6ms/step - loss: 0.0156 - accuracy: 0.9951 - val_loss: 0.0766 - val_accuracy: 0.9565\n",
      "Epoch 39/50\n",
      "13/13 [==============================] - 0s 9ms/step - loss: 0.0151 - accuracy: 0.9951 - val_loss: 0.0763 - val_accuracy: 0.9565\n",
      "Epoch 40/50\n",
      "13/13 [==============================] - 0s 9ms/step - loss: 0.0151 - accuracy: 0.9951 - val_loss: 0.0786 - val_accuracy: 0.9565\n",
      "Epoch 41/50\n",
      "13/13 [==============================] - 0s 10ms/step - loss: 0.0146 - accuracy: 0.9951 - val_loss: 0.0775 - val_accuracy: 0.9565\n",
      "Epoch 42/50\n",
      "13/13 [==============================] - 0s 7ms/step - loss: 0.0140 - accuracy: 0.9951 - val_loss: 0.0777 - val_accuracy: 0.9565\n",
      "Epoch 43/50\n",
      "13/13 [==============================] - 0s 6ms/step - loss: 0.0139 - accuracy: 0.9951 - val_loss: 0.0772 - val_accuracy: 0.9565\n",
      "Epoch 44/50\n",
      "13/13 [==============================] - 0s 5ms/step - loss: 0.0136 - accuracy: 0.9951 - val_loss: 0.0758 - val_accuracy: 0.9565\n",
      "Epoch 45/50\n",
      "13/13 [==============================] - 0s 7ms/step - loss: 0.0133 - accuracy: 0.9951 - val_loss: 0.0773 - val_accuracy: 0.9565\n",
      "Epoch 46/50\n",
      "13/13 [==============================] - 0s 6ms/step - loss: 0.0131 - accuracy: 0.9951 - val_loss: 0.0772 - val_accuracy: 0.9565\n",
      "Epoch 47/50\n",
      "13/13 [==============================] - 0s 6ms/step - loss: 0.0124 - accuracy: 0.9951 - val_loss: 0.0774 - val_accuracy: 0.9565\n",
      "Epoch 48/50\n",
      "13/13 [==============================] - 0s 6ms/step - loss: 0.0122 - accuracy: 0.9951 - val_loss: 0.0765 - val_accuracy: 0.9565\n",
      "Epoch 49/50\n",
      "13/13 [==============================] - 0s 6ms/step - loss: 0.0121 - accuracy: 0.9951 - val_loss: 0.0778 - val_accuracy: 0.9565\n",
      "Epoch 50/50\n",
      "13/13 [==============================] - 0s 6ms/step - loss: 0.0117 - accuracy: 0.9951 - val_loss: 0.0789 - val_accuracy: 0.9565\n"
     ]
    },
    {
     "data": {
      "text/plain": [
       "<keras.callbacks.History at 0x13ffc5550>"
      ]
     },
     "execution_count": 173,
     "metadata": {},
     "output_type": "execute_result"
    }
   ],
   "source": [
    "\n",
    "model.compile(optimizer='rmsprop',\n",
    "              loss='sparse_categorical_crossentropy',\n",
    "              metrics=['accuracy'])\n",
    "\n",
    "model.fit(X_train_std, Y_train, validation_split=0.1, epochs=50)"
   ]
  },
  {
   "cell_type": "code",
   "execution_count": 174,
   "id": "1ce88717",
   "metadata": {},
   "outputs": [
    {
     "name": "stdout",
     "output_type": "stream",
     "text": [
      "4/4 [==============================] - 0s 2ms/step - loss: 0.1503 - accuracy: 0.9649\n",
      "Accuracy :  0.9649122953414917\n",
      "Loss :  0.150255486369133\n"
     ]
    }
   ],
   "source": [
    "loss_rms, accuracy_rms = model.evaluate(X_test_std, Y_test)\n",
    "print(\"Accuracy : \", accuracy_rms)\n",
    "print(\"Loss : \", loss_rms)"
   ]
  },
  {
   "attachments": {},
   "cell_type": "markdown",
   "id": "2d5e4623",
   "metadata": {},
   "source": [
    "# ADAGRAD"
   ]
  },
  {
   "cell_type": "code",
   "execution_count": 175,
   "id": "06e95416",
   "metadata": {},
   "outputs": [
    {
     "name": "stdout",
     "output_type": "stream",
     "text": [
      "Epoch 1/50\n"
     ]
    },
    {
     "name": "stdout",
     "output_type": "stream",
     "text": [
      "13/13 [==============================] - 1s 19ms/step - loss: 0.0109 - accuracy: 0.9951 - val_loss: 0.0788 - val_accuracy: 0.9565\n",
      "Epoch 2/50\n",
      "13/13 [==============================] - 0s 15ms/step - loss: 0.0109 - accuracy: 0.9951 - val_loss: 0.0788 - val_accuracy: 0.9565\n",
      "Epoch 3/50\n",
      "13/13 [==============================] - 0s 7ms/step - loss: 0.0109 - accuracy: 0.9951 - val_loss: 0.0788 - val_accuracy: 0.9565\n",
      "Epoch 4/50\n",
      "13/13 [==============================] - 0s 7ms/step - loss: 0.0109 - accuracy: 0.9951 - val_loss: 0.0787 - val_accuracy: 0.9565\n",
      "Epoch 5/50\n",
      "13/13 [==============================] - 0s 5ms/step - loss: 0.0108 - accuracy: 0.9951 - val_loss: 0.0787 - val_accuracy: 0.9565\n",
      "Epoch 6/50\n",
      "13/13 [==============================] - 0s 5ms/step - loss: 0.0108 - accuracy: 0.9951 - val_loss: 0.0787 - val_accuracy: 0.9565\n",
      "Epoch 7/50\n",
      "13/13 [==============================] - 0s 5ms/step - loss: 0.0108 - accuracy: 0.9951 - val_loss: 0.0786 - val_accuracy: 0.9565\n",
      "Epoch 8/50\n",
      "13/13 [==============================] - 0s 5ms/step - loss: 0.0108 - accuracy: 0.9951 - val_loss: 0.0786 - val_accuracy: 0.9565\n",
      "Epoch 9/50\n",
      "13/13 [==============================] - 0s 5ms/step - loss: 0.0108 - accuracy: 0.9951 - val_loss: 0.0786 - val_accuracy: 0.9565\n",
      "Epoch 10/50\n",
      "13/13 [==============================] - 0s 5ms/step - loss: 0.0108 - accuracy: 0.9951 - val_loss: 0.0786 - val_accuracy: 0.9565\n",
      "Epoch 11/50\n",
      "13/13 [==============================] - 0s 4ms/step - loss: 0.0108 - accuracy: 0.9951 - val_loss: 0.0785 - val_accuracy: 0.9565\n",
      "Epoch 12/50\n",
      "13/13 [==============================] - 0s 4ms/step - loss: 0.0108 - accuracy: 0.9951 - val_loss: 0.0785 - val_accuracy: 0.9565\n",
      "Epoch 13/50\n",
      "13/13 [==============================] - 0s 7ms/step - loss: 0.0108 - accuracy: 0.9951 - val_loss: 0.0785 - val_accuracy: 0.9565\n",
      "Epoch 14/50\n",
      "13/13 [==============================] - 0s 5ms/step - loss: 0.0108 - accuracy: 0.9951 - val_loss: 0.0785 - val_accuracy: 0.9565\n",
      "Epoch 15/50\n",
      "13/13 [==============================] - 0s 5ms/step - loss: 0.0108 - accuracy: 0.9951 - val_loss: 0.0785 - val_accuracy: 0.9565\n",
      "Epoch 16/50\n",
      "13/13 [==============================] - 0s 5ms/step - loss: 0.0108 - accuracy: 0.9951 - val_loss: 0.0784 - val_accuracy: 0.9565\n",
      "Epoch 17/50\n",
      "13/13 [==============================] - 0s 4ms/step - loss: 0.0108 - accuracy: 0.9951 - val_loss: 0.0784 - val_accuracy: 0.9565\n",
      "Epoch 18/50\n",
      "13/13 [==============================] - 0s 5ms/step - loss: 0.0108 - accuracy: 0.9951 - val_loss: 0.0784 - val_accuracy: 0.9565\n",
      "Epoch 19/50\n",
      "13/13 [==============================] - 0s 4ms/step - loss: 0.0108 - accuracy: 0.9951 - val_loss: 0.0784 - val_accuracy: 0.9565\n",
      "Epoch 20/50\n",
      "13/13 [==============================] - 0s 4ms/step - loss: 0.0108 - accuracy: 0.9951 - val_loss: 0.0783 - val_accuracy: 0.9565\n",
      "Epoch 21/50\n",
      "13/13 [==============================] - 0s 4ms/step - loss: 0.0107 - accuracy: 0.9951 - val_loss: 0.0783 - val_accuracy: 0.9565\n",
      "Epoch 22/50\n",
      "13/13 [==============================] - 0s 4ms/step - loss: 0.0107 - accuracy: 0.9951 - val_loss: 0.0783 - val_accuracy: 0.9565\n",
      "Epoch 23/50\n",
      "13/13 [==============================] - 0s 4ms/step - loss: 0.0107 - accuracy: 0.9951 - val_loss: 0.0783 - val_accuracy: 0.9565\n",
      "Epoch 24/50\n",
      "13/13 [==============================] - 0s 5ms/step - loss: 0.0107 - accuracy: 0.9951 - val_loss: 0.0783 - val_accuracy: 0.9565\n",
      "Epoch 25/50\n",
      "13/13 [==============================] - 0s 5ms/step - loss: 0.0107 - accuracy: 0.9951 - val_loss: 0.0783 - val_accuracy: 0.9565\n",
      "Epoch 26/50\n",
      "13/13 [==============================] - 0s 5ms/step - loss: 0.0107 - accuracy: 0.9951 - val_loss: 0.0782 - val_accuracy: 0.9565\n",
      "Epoch 27/50\n",
      "13/13 [==============================] - 0s 4ms/step - loss: 0.0107 - accuracy: 0.9951 - val_loss: 0.0782 - val_accuracy: 0.9565\n",
      "Epoch 28/50\n",
      "13/13 [==============================] - 0s 4ms/step - loss: 0.0107 - accuracy: 0.9951 - val_loss: 0.0782 - val_accuracy: 0.9565\n",
      "Epoch 29/50\n",
      "13/13 [==============================] - 0s 4ms/step - loss: 0.0107 - accuracy: 0.9951 - val_loss: 0.0782 - val_accuracy: 0.9565\n",
      "Epoch 30/50\n",
      "13/13 [==============================] - 0s 4ms/step - loss: 0.0107 - accuracy: 0.9951 - val_loss: 0.0782 - val_accuracy: 0.9565\n",
      "Epoch 31/50\n",
      "13/13 [==============================] - 0s 4ms/step - loss: 0.0107 - accuracy: 0.9951 - val_loss: 0.0781 - val_accuracy: 0.9565\n",
      "Epoch 32/50\n",
      "13/13 [==============================] - 0s 4ms/step - loss: 0.0107 - accuracy: 0.9951 - val_loss: 0.0781 - val_accuracy: 0.9565\n",
      "Epoch 33/50\n",
      "13/13 [==============================] - 0s 4ms/step - loss: 0.0107 - accuracy: 0.9951 - val_loss: 0.0781 - val_accuracy: 0.9565\n",
      "Epoch 34/50\n",
      "13/13 [==============================] - 0s 4ms/step - loss: 0.0107 - accuracy: 0.9951 - val_loss: 0.0781 - val_accuracy: 0.9565\n",
      "Epoch 35/50\n",
      "13/13 [==============================] - 0s 4ms/step - loss: 0.0107 - accuracy: 0.9951 - val_loss: 0.0781 - val_accuracy: 0.9565\n",
      "Epoch 36/50\n",
      "13/13 [==============================] - 0s 4ms/step - loss: 0.0107 - accuracy: 0.9951 - val_loss: 0.0781 - val_accuracy: 0.9565\n",
      "Epoch 37/50\n",
      "13/13 [==============================] - 0s 4ms/step - loss: 0.0107 - accuracy: 0.9951 - val_loss: 0.0781 - val_accuracy: 0.9565\n",
      "Epoch 38/50\n",
      "13/13 [==============================] - 0s 4ms/step - loss: 0.0107 - accuracy: 0.9951 - val_loss: 0.0780 - val_accuracy: 0.9565\n",
      "Epoch 39/50\n",
      "13/13 [==============================] - 0s 5ms/step - loss: 0.0107 - accuracy: 0.9951 - val_loss: 0.0780 - val_accuracy: 0.9565\n",
      "Epoch 40/50\n",
      "13/13 [==============================] - 0s 4ms/step - loss: 0.0106 - accuracy: 0.9951 - val_loss: 0.0780 - val_accuracy: 0.9565\n",
      "Epoch 41/50\n",
      "13/13 [==============================] - 0s 4ms/step - loss: 0.0106 - accuracy: 0.9951 - val_loss: 0.0780 - val_accuracy: 0.9565\n",
      "Epoch 42/50\n",
      "13/13 [==============================] - 0s 4ms/step - loss: 0.0106 - accuracy: 0.9951 - val_loss: 0.0780 - val_accuracy: 0.9565\n",
      "Epoch 43/50\n",
      "13/13 [==============================] - 0s 4ms/step - loss: 0.0106 - accuracy: 0.9951 - val_loss: 0.0780 - val_accuracy: 0.9565\n",
      "Epoch 44/50\n",
      "13/13 [==============================] - 0s 4ms/step - loss: 0.0106 - accuracy: 0.9951 - val_loss: 0.0779 - val_accuracy: 0.9565\n",
      "Epoch 45/50\n",
      "13/13 [==============================] - 0s 4ms/step - loss: 0.0106 - accuracy: 0.9951 - val_loss: 0.0779 - val_accuracy: 0.9565\n",
      "Epoch 46/50\n",
      "13/13 [==============================] - 0s 4ms/step - loss: 0.0106 - accuracy: 0.9951 - val_loss: 0.0779 - val_accuracy: 0.9565\n",
      "Epoch 47/50\n",
      "13/13 [==============================] - 0s 4ms/step - loss: 0.0106 - accuracy: 0.9951 - val_loss: 0.0779 - val_accuracy: 0.9565\n",
      "Epoch 48/50\n",
      "13/13 [==============================] - 0s 4ms/step - loss: 0.0106 - accuracy: 0.9951 - val_loss: 0.0779 - val_accuracy: 0.9565\n",
      "Epoch 49/50\n",
      "13/13 [==============================] - 0s 4ms/step - loss: 0.0106 - accuracy: 0.9951 - val_loss: 0.0779 - val_accuracy: 0.9565\n",
      "Epoch 50/50\n",
      "13/13 [==============================] - 0s 4ms/step - loss: 0.0106 - accuracy: 0.9951 - val_loss: 0.0779 - val_accuracy: 0.9565\n"
     ]
    },
    {
     "data": {
      "text/plain": [
       "<keras.callbacks.History at 0x14005ac50>"
      ]
     },
     "execution_count": 175,
     "metadata": {},
     "output_type": "execute_result"
    }
   ],
   "source": [
    "model.compile(optimizer='adagrad',\n",
    "              loss='sparse_categorical_crossentropy',\n",
    "              metrics=['accuracy'])\n",
    "\n",
    "model.fit(X_train_std, Y_train, validation_split=0.1, epochs=50)"
   ]
  },
  {
   "cell_type": "code",
   "execution_count": 176,
   "id": "959b35dd",
   "metadata": {},
   "outputs": [
    {
     "name": "stdout",
     "output_type": "stream",
     "text": [
      "4/4 [==============================] - 0s 4ms/step - loss: 0.1527 - accuracy: 0.9649\n",
      "Accuracy :  0.9649122953414917\n",
      "Loss :  0.15267443656921387\n"
     ]
    }
   ],
   "source": [
    "loss_agrad, accuracy_agrad = model.evaluate(X_test_std, Y_test)\n",
    "print(\"Accuracy : \", accuracy_agrad)\n",
    "print(\"Loss : \", loss_agrad)"
   ]
  },
  {
   "attachments": {},
   "cell_type": "markdown",
   "id": "3b72d7f6",
   "metadata": {},
   "source": [
    "# ADELTA"
   ]
  },
  {
   "cell_type": "code",
   "execution_count": 178,
   "id": "d1067ddb",
   "metadata": {},
   "outputs": [
    {
     "name": "stdout",
     "output_type": "stream",
     "text": [
      "Epoch 1/50\n"
     ]
    },
    {
     "name": "stdout",
     "output_type": "stream",
     "text": [
      "13/13 [==============================] - 1s 20ms/step - loss: 0.0106 - accuracy: 0.9951 - val_loss: 0.0779 - val_accuracy: 0.9565\n",
      "Epoch 2/50\n",
      "13/13 [==============================] - 0s 5ms/step - loss: 0.0106 - accuracy: 0.9951 - val_loss: 0.0779 - val_accuracy: 0.9565\n",
      "Epoch 3/50\n",
      "13/13 [==============================] - 0s 5ms/step - loss: 0.0106 - accuracy: 0.9951 - val_loss: 0.0779 - val_accuracy: 0.9565\n",
      "Epoch 4/50\n",
      "13/13 [==============================] - 0s 6ms/step - loss: 0.0106 - accuracy: 0.9951 - val_loss: 0.0779 - val_accuracy: 0.9565\n",
      "Epoch 5/50\n",
      "13/13 [==============================] - 0s 10ms/step - loss: 0.0106 - accuracy: 0.9951 - val_loss: 0.0779 - val_accuracy: 0.9565\n",
      "Epoch 6/50\n",
      "13/13 [==============================] - 0s 5ms/step - loss: 0.0106 - accuracy: 0.9951 - val_loss: 0.0779 - val_accuracy: 0.9565\n",
      "Epoch 7/50\n",
      "13/13 [==============================] - 0s 5ms/step - loss: 0.0106 - accuracy: 0.9951 - val_loss: 0.0779 - val_accuracy: 0.9565\n",
      "Epoch 8/50\n",
      "13/13 [==============================] - 0s 5ms/step - loss: 0.0106 - accuracy: 0.9951 - val_loss: 0.0779 - val_accuracy: 0.9565\n",
      "Epoch 9/50\n",
      "13/13 [==============================] - 0s 5ms/step - loss: 0.0106 - accuracy: 0.9951 - val_loss: 0.0779 - val_accuracy: 0.9565\n",
      "Epoch 10/50\n",
      "13/13 [==============================] - 0s 5ms/step - loss: 0.0106 - accuracy: 0.9951 - val_loss: 0.0779 - val_accuracy: 0.9565\n",
      "Epoch 11/50\n",
      "13/13 [==============================] - 0s 5ms/step - loss: 0.0106 - accuracy: 0.9951 - val_loss: 0.0779 - val_accuracy: 0.9565\n",
      "Epoch 12/50\n",
      "13/13 [==============================] - 0s 5ms/step - loss: 0.0106 - accuracy: 0.9951 - val_loss: 0.0779 - val_accuracy: 0.9565\n",
      "Epoch 13/50\n",
      "13/13 [==============================] - 0s 5ms/step - loss: 0.0106 - accuracy: 0.9951 - val_loss: 0.0779 - val_accuracy: 0.9565\n",
      "Epoch 14/50\n",
      "13/13 [==============================] - 0s 6ms/step - loss: 0.0106 - accuracy: 0.9951 - val_loss: 0.0779 - val_accuracy: 0.9565\n",
      "Epoch 15/50\n",
      "13/13 [==============================] - 0s 5ms/step - loss: 0.0106 - accuracy: 0.9951 - val_loss: 0.0779 - val_accuracy: 0.9565\n",
      "Epoch 16/50\n",
      "13/13 [==============================] - 0s 5ms/step - loss: 0.0106 - accuracy: 0.9951 - val_loss: 0.0779 - val_accuracy: 0.9565\n",
      "Epoch 17/50\n",
      "13/13 [==============================] - 0s 6ms/step - loss: 0.0106 - accuracy: 0.9951 - val_loss: 0.0779 - val_accuracy: 0.9565\n",
      "Epoch 18/50\n",
      "13/13 [==============================] - 0s 6ms/step - loss: 0.0106 - accuracy: 0.9951 - val_loss: 0.0779 - val_accuracy: 0.9565\n",
      "Epoch 19/50\n",
      "13/13 [==============================] - 0s 4ms/step - loss: 0.0106 - accuracy: 0.9951 - val_loss: 0.0779 - val_accuracy: 0.9565\n",
      "Epoch 20/50\n",
      "13/13 [==============================] - 0s 4ms/step - loss: 0.0106 - accuracy: 0.9951 - val_loss: 0.0779 - val_accuracy: 0.9565\n",
      "Epoch 21/50\n",
      "13/13 [==============================] - 0s 4ms/step - loss: 0.0106 - accuracy: 0.9951 - val_loss: 0.0779 - val_accuracy: 0.9565\n",
      "Epoch 22/50\n",
      "13/13 [==============================] - 0s 5ms/step - loss: 0.0106 - accuracy: 0.9951 - val_loss: 0.0779 - val_accuracy: 0.9565\n",
      "Epoch 23/50\n",
      "13/13 [==============================] - 0s 4ms/step - loss: 0.0106 - accuracy: 0.9951 - val_loss: 0.0779 - val_accuracy: 0.9565\n",
      "Epoch 24/50\n",
      "13/13 [==============================] - 0s 5ms/step - loss: 0.0106 - accuracy: 0.9951 - val_loss: 0.0779 - val_accuracy: 0.9565\n",
      "Epoch 25/50\n",
      "13/13 [==============================] - 0s 4ms/step - loss: 0.0106 - accuracy: 0.9951 - val_loss: 0.0779 - val_accuracy: 0.9565\n",
      "Epoch 26/50\n",
      "13/13 [==============================] - 0s 5ms/step - loss: 0.0106 - accuracy: 0.9951 - val_loss: 0.0779 - val_accuracy: 0.9565\n",
      "Epoch 27/50\n",
      "13/13 [==============================] - 0s 4ms/step - loss: 0.0106 - accuracy: 0.9951 - val_loss: 0.0779 - val_accuracy: 0.9565\n",
      "Epoch 28/50\n",
      "13/13 [==============================] - 0s 5ms/step - loss: 0.0106 - accuracy: 0.9951 - val_loss: 0.0779 - val_accuracy: 0.9565\n",
      "Epoch 29/50\n",
      "13/13 [==============================] - 0s 5ms/step - loss: 0.0106 - accuracy: 0.9951 - val_loss: 0.0779 - val_accuracy: 0.9565\n",
      "Epoch 30/50\n",
      "13/13 [==============================] - 0s 17ms/step - loss: 0.0106 - accuracy: 0.9951 - val_loss: 0.0779 - val_accuracy: 0.9565\n",
      "Epoch 31/50\n",
      "13/13 [==============================] - 0s 11ms/step - loss: 0.0106 - accuracy: 0.9951 - val_loss: 0.0779 - val_accuracy: 0.9565\n",
      "Epoch 32/50\n",
      "13/13 [==============================] - 0s 5ms/step - loss: 0.0106 - accuracy: 0.9951 - val_loss: 0.0779 - val_accuracy: 0.9565\n",
      "Epoch 33/50\n",
      "13/13 [==============================] - 0s 4ms/step - loss: 0.0106 - accuracy: 0.9951 - val_loss: 0.0779 - val_accuracy: 0.9565\n",
      "Epoch 34/50\n",
      "13/13 [==============================] - 0s 4ms/step - loss: 0.0106 - accuracy: 0.9951 - val_loss: 0.0779 - val_accuracy: 0.9565\n",
      "Epoch 35/50\n",
      "13/13 [==============================] - 0s 5ms/step - loss: 0.0106 - accuracy: 0.9951 - val_loss: 0.0779 - val_accuracy: 0.9565\n",
      "Epoch 36/50\n",
      "13/13 [==============================] - 0s 5ms/step - loss: 0.0106 - accuracy: 0.9951 - val_loss: 0.0779 - val_accuracy: 0.9565\n",
      "Epoch 37/50\n",
      "13/13 [==============================] - 0s 5ms/step - loss: 0.0106 - accuracy: 0.9951 - val_loss: 0.0779 - val_accuracy: 0.9565\n",
      "Epoch 38/50\n",
      "13/13 [==============================] - 0s 4ms/step - loss: 0.0106 - accuracy: 0.9951 - val_loss: 0.0779 - val_accuracy: 0.9565\n",
      "Epoch 39/50\n",
      "13/13 [==============================] - 0s 5ms/step - loss: 0.0106 - accuracy: 0.9951 - val_loss: 0.0779 - val_accuracy: 0.9565\n",
      "Epoch 40/50\n",
      "13/13 [==============================] - 0s 5ms/step - loss: 0.0106 - accuracy: 0.9951 - val_loss: 0.0779 - val_accuracy: 0.9565\n",
      "Epoch 41/50\n",
      "13/13 [==============================] - 0s 4ms/step - loss: 0.0106 - accuracy: 0.9951 - val_loss: 0.0779 - val_accuracy: 0.9565\n",
      "Epoch 42/50\n",
      "13/13 [==============================] - 0s 5ms/step - loss: 0.0106 - accuracy: 0.9951 - val_loss: 0.0779 - val_accuracy: 0.9565\n",
      "Epoch 43/50\n",
      "13/13 [==============================] - 0s 4ms/step - loss: 0.0106 - accuracy: 0.9951 - val_loss: 0.0779 - val_accuracy: 0.9565\n",
      "Epoch 44/50\n",
      "13/13 [==============================] - 0s 5ms/step - loss: 0.0106 - accuracy: 0.9951 - val_loss: 0.0779 - val_accuracy: 0.9565\n",
      "Epoch 45/50\n",
      "13/13 [==============================] - 0s 4ms/step - loss: 0.0106 - accuracy: 0.9951 - val_loss: 0.0779 - val_accuracy: 0.9565\n",
      "Epoch 46/50\n",
      "13/13 [==============================] - 0s 5ms/step - loss: 0.0106 - accuracy: 0.9951 - val_loss: 0.0779 - val_accuracy: 0.9565\n",
      "Epoch 47/50\n",
      "13/13 [==============================] - 0s 4ms/step - loss: 0.0106 - accuracy: 0.9951 - val_loss: 0.0779 - val_accuracy: 0.9565\n",
      "Epoch 48/50\n",
      "13/13 [==============================] - 0s 4ms/step - loss: 0.0106 - accuracy: 0.9951 - val_loss: 0.0779 - val_accuracy: 0.9565\n",
      "Epoch 49/50\n",
      "13/13 [==============================] - 0s 4ms/step - loss: 0.0106 - accuracy: 0.9951 - val_loss: 0.0779 - val_accuracy: 0.9565\n",
      "Epoch 50/50\n",
      "13/13 [==============================] - 0s 4ms/step - loss: 0.0106 - accuracy: 0.9951 - val_loss: 0.0779 - val_accuracy: 0.9565\n"
     ]
    },
    {
     "data": {
      "text/plain": [
       "<keras.callbacks.History at 0x1401a8690>"
      ]
     },
     "execution_count": 178,
     "metadata": {},
     "output_type": "execute_result"
    }
   ],
   "source": [
    "model.compile(optimizer='adadelta',\n",
    "              loss='sparse_categorical_crossentropy',\n",
    "              metrics=['accuracy'])\n",
    "\n",
    "model.fit(X_train_std, Y_train, validation_split=0.1, epochs=50)"
   ]
  },
  {
   "cell_type": "code",
   "execution_count": 179,
   "id": "4405f33c",
   "metadata": {},
   "outputs": [
    {
     "name": "stdout",
     "output_type": "stream",
     "text": [
      "1/4 [======>.......................] - ETA: 0s - loss: 0.0235 - accuracy: 1.0000"
     ]
    },
    {
     "name": "stdout",
     "output_type": "stream",
     "text": [
      "4/4 [==============================] - 0s 3ms/step - loss: 0.1528 - accuracy: 0.9649\n",
      "Accuracy :  0.9649122953414917\n",
      "Loss :  0.15276972949504852\n"
     ]
    }
   ],
   "source": [
    "loss_adelta, accuracy_adelta = model.evaluate(X_test_std, Y_test)\n",
    "print(\"Accuracy : \", accuracy_adelta)\n",
    "print(\"Loss : \", loss_adelta)"
   ]
  },
  {
   "cell_type": "code",
   "execution_count": 181,
   "id": "65dff99d",
   "metadata": {},
   "outputs": [
    {
     "data": {
      "image/png": "[encoded data removed]",
      "text/plain": [
       "<Figure size 640x480 with 1 Axes>"
      ]
     },
     "metadata": {},
     "output_type": "display_data"
    }
   ],
   "source": [
    "import matplotlib.pyplot as plt\n",
    "fig = plt.figure()\n",
    "ax = fig.add_axes([1,0,1,0.80])\n",
    "algo=['accuracy_adam','accuracy_sgd','accuracy_rms','accuracy_agrad','accuracy_adelta', ]\n",
    "valeurs = [accuracy_adam,accuracy_sgd,accuracy_rms,accuracy_agrad,accuracy_adelta]\n",
    "ax.bar(algo,valeurs)\n",
    "plt.show()"
   ]
  },
  {
   "cell_type": "code",
   "execution_count": 182,
   "id": "b32da95c",
   "metadata": {},
   "outputs": [
    {
     "data": {
      "image/png": "[encoded data removed]",
      "text/plain": [
       "<Figure size 640x480 with 1 Axes>"
      ]
     },
     "metadata": {},
     "output_type": "display_data"
    }
   ],
   "source": [
    "fig = plt.figure()\n",
    "ax = fig.add_axes([1,0,1,0.80])\n",
    "algo=['loss_adam','loss_sgd','loss_rms','loss_agrad','loss_adelta', ]\n",
    "valeurs = [loss_adam,loss_sgd,loss_rms,loss_agrad,loss_adelta]\n",
    "ax.bar(algo,valeurs)\n",
    "plt.show()"
   ]
  },
  {
   "cell_type": "code",
   "execution_count": null,
   "id": "a4407f29",
   "metadata": {},
   "outputs": [],
   "source": []
  }
 ],
 "metadata": {
  "kernelspec": {
   "display_name": "Python 3 (ipykernel)",
   "language": "python",
   "name": "python3"
  },
  "language_info": {
   "codemirror_mode": {
    "name": "ipython",
    "version": 3
   },
   "file_extension": ".py",
   "mimetype": "text/x-python",
   "name": "python",
   "nbconvert_exporter": "python",
   "pygments_lexer": "ipython3",
   "version": "3.11.3"
  }
 },
 "nbformat": 4,
 "nbformat_minor": 5
}
