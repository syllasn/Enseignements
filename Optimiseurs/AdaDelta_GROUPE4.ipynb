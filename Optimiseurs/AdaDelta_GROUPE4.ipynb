{
 "cells": [
  {
   "cell_type": "markdown",
   "id": "294d3532-e7d9-42d7-88af-a53627131c85",
   "metadata": {},
   "source": [
    "## L'OPTIMISEUR ADADELTA\n"
   ]
  },
  {
   "cell_type": "code",
   "execution_count": null,
   "id": "cff1959d-2419-42bb-ae47-aa9a55ce81c0",
   "metadata": {},
   "outputs": [],
   "source": [
    "import numpy as np\n",
    "import pandas as pd\n",
    "import tensorflow as tf\n",
    "from sklearn.model_selection import train_test_split\n",
    "from sklearn.preprocessing import StandardScaler"
   ]
  },
  {
   "cell_type": "code",
   "execution_count": null,
   "id": "13c8fc4a-66c8-401a-87e9-e685929985ef",
   "metadata": {},
   "outputs": [
    {
     "data": {
      "text/html": [
       "<div>\n",
       "<style scoped>\n",
       "    .dataframe tbody tr th:only-of-type {\n",
       "        vertical-align: middle;\n",
       "    }\n",
       "\n",
       "    .dataframe tbody tr th {\n",
       "        vertical-align: top;\n",
       "    }\n",
       "\n",
       "    .dataframe thead th {\n",
       "        text-align: right;\n",
       "    }\n",
       "</style>\n",
       "<table border=\"1\" class=\"dataframe\">\n",
       "  <thead>\n",
       "    <tr style=\"text-align: right;\">\n",
       "      <th></th>\n",
       "      <th>Pregnancies</th>\n",
       "      <th>Glucose</th>\n",
       "      <th>BloodPressure</th>\n",
       "      <th>SkinThickness</th>\n",
       "      <th>Insulin</th>\n",
       "      <th>BMI</th>\n",
       "      <th>DiabetesPedigreeFunction</th>\n",
       "      <th>Age</th>\n",
       "      <th>Outcome</th>\n",
       "    </tr>\n",
       "  </thead>\n",
       "  <tbody>\n",
       "    <tr>\n",
       "      <th>0</th>\n",
       "      <td>6</td>\n",
       "      <td>148</td>\n",
       "      <td>72</td>\n",
       "      <td>35</td>\n",
       "      <td>0</td>\n",
       "      <td>33.6</td>\n",
       "      <td>0.627</td>\n",
       "      <td>50</td>\n",
       "      <td>1</td>\n",
       "    </tr>\n",
       "    <tr>\n",
       "      <th>1</th>\n",
       "      <td>1</td>\n",
       "      <td>85</td>\n",
       "      <td>66</td>\n",
       "      <td>29</td>\n",
       "      <td>0</td>\n",
       "      <td>26.6</td>\n",
       "      <td>0.351</td>\n",
       "      <td>31</td>\n",
       "      <td>0</td>\n",
       "    </tr>\n",
       "    <tr>\n",
       "      <th>2</th>\n",
       "      <td>8</td>\n",
       "      <td>183</td>\n",
       "      <td>64</td>\n",
       "      <td>0</td>\n",
       "      <td>0</td>\n",
       "      <td>23.3</td>\n",
       "      <td>0.672</td>\n",
       "      <td>32</td>\n",
       "      <td>1</td>\n",
       "    </tr>\n",
       "    <tr>\n",
       "      <th>3</th>\n",
       "      <td>1</td>\n",
       "      <td>89</td>\n",
       "      <td>66</td>\n",
       "      <td>23</td>\n",
       "      <td>94</td>\n",
       "      <td>28.1</td>\n",
       "      <td>0.167</td>\n",
       "      <td>21</td>\n",
       "      <td>0</td>\n",
       "    </tr>\n",
       "    <tr>\n",
       "      <th>4</th>\n",
       "      <td>0</td>\n",
       "      <td>137</td>\n",
       "      <td>40</td>\n",
       "      <td>35</td>\n",
       "      <td>168</td>\n",
       "      <td>43.1</td>\n",
       "      <td>2.288</td>\n",
       "      <td>33</td>\n",
       "      <td>1</td>\n",
       "    </tr>\n",
       "  </tbody>\n",
       "</table>\n",
       "</div>"
      ],
      "text/plain": [
       "   Pregnancies  Glucose  BloodPressure  SkinThickness  Insulin   BMI  \\\n",
       "0            6      148             72             35        0  33.6   \n",
       "1            1       85             66             29        0  26.6   \n",
       "2            8      183             64              0        0  23.3   \n",
       "3            1       89             66             23       94  28.1   \n",
       "4            0      137             40             35      168  43.1   \n",
       "\n",
       "   DiabetesPedigreeFunction  Age  Outcome  \n",
       "0                     0.627   50        1  \n",
       "1                     0.351   31        0  \n",
       "2                     0.672   32        1  \n",
       "3                     0.167   21        0  \n",
       "4                     2.288   33        1  "
      ]
     },
     "execution_count": 2,
     "metadata": {},
     "output_type": "execute_result"
    }
   ],
   "source": [
    "df = pd.read_csv('diabetes.csv');\n",
    "df.head()"
   ]
  },
  {
   "cell_type": "code",
   "execution_count": null,
   "id": "5e3d9323-c7c1-491a-8df7-63ed4529d17d",
   "metadata": {},
   "outputs": [],
   "source": [
    "Y = df['Outcome']\n",
    "X = df.drop('Outcome', axis=1)"
   ]
  },
  {
   "cell_type": "code",
   "execution_count": null,
   "id": "ba2a235d-db5b-42d0-802e-3c26401157c8",
   "metadata": {},
   "outputs": [],
   "source": [
    "X_train,X_test,Y_train,Y_test = train_test_split(X,Y, test_size=0.3, random_state=12)"
   ]
  },
  {
   "cell_type": "code",
   "execution_count": null,
   "id": "874fd9cd-cae0-467f-9530-030003f250b2",
   "metadata": {},
   "outputs": [],
   "source": [
    "# On va normaliser les donnes\n",
    "scaler = StandardScaler()\n",
    "X_train = scaler.fit_transform(X_train)\n",
    "X_test = scaler.transform(X_test)"
   ]
  },
  {
   "cell_type": "code",
   "execution_count": null,
   "id": "35d8e372-52c2-4d64-a30a-fd0ab5e035f4",
   "metadata": {},
   "outputs": [],
   "source": [
    "# on va definir notre modeles maintenant\n",
    "model = tf.keras.Sequential([\n",
    "    tf.keras.layers.Dense(32, activation='relu', input_shape=(X_train.shape[1],)),\n",
    "    tf.keras.layers.Dense(1, activation='sigmoid')\n",
    "])"
   ]
  },
  {
   "cell_type": "code",
   "execution_count": null,
   "id": "389dddca-b8bc-4671-beaf-aaf67251adc6",
   "metadata": {},
   "outputs": [],
   "source": [
    "# Compiler le modèle avec Adadelta comme optimiseur\n",
    "model.compile(optimizer=tf.keras.optimizers.Adadelta(),\n",
    "              loss='binary_crossentropy',\n",
    "              metrics=['accuracy'])"
   ]
  },
  {
   "cell_type": "code",
   "execution_count": null,
   "id": "a4442f26-7303-49ed-9043-82dbb9d3efc1",
   "metadata": {},
   "outputs": [
    {
     "name": "stdout",
     "output_type": "stream",
     "text": [
      "Epoch 1/10\n",
      "17/17 [==============================] - 2s 32ms/step - loss: 0.7666 - accuracy: 0.4655 - val_loss: 0.7873 - val_accuracy: 0.4545\n",
      "Epoch 2/10\n",
      "17/17 [==============================] - 0s 8ms/step - loss: 0.7665 - accuracy: 0.4655 - val_loss: 0.7872 - val_accuracy: 0.4545\n",
      "Epoch 3/10\n",
      "17/17 [==============================] - 0s 9ms/step - loss: 0.7664 - accuracy: 0.4655 - val_loss: 0.7871 - val_accuracy: 0.4545\n",
      "Epoch 4/10\n",
      "17/17 [==============================] - 0s 10ms/step - loss: 0.7663 - accuracy: 0.4655 - val_loss: 0.7870 - val_accuracy: 0.4545\n",
      "Epoch 5/10\n",
      "17/17 [==============================] - 0s 10ms/step - loss: 0.7662 - accuracy: 0.4655 - val_loss: 0.7869 - val_accuracy: 0.4545\n",
      "Epoch 6/10\n",
      "17/17 [==============================] - 0s 10ms/step - loss: 0.7662 - accuracy: 0.4655 - val_loss: 0.7869 - val_accuracy: 0.4545\n",
      "Epoch 7/10\n",
      "17/17 [==============================] - 0s 10ms/step - loss: 0.7661 - accuracy: 0.4655 - val_loss: 0.7868 - val_accuracy: 0.4545\n",
      "Epoch 8/10\n",
      "17/17 [==============================] - 0s 11ms/step - loss: 0.7660 - accuracy: 0.4655 - val_loss: 0.7867 - val_accuracy: 0.4545\n",
      "Epoch 9/10\n",
      "17/17 [==============================] - 0s 9ms/step - loss: 0.7659 - accuracy: 0.4655 - val_loss: 0.7866 - val_accuracy: 0.4545\n",
      "Epoch 10/10\n",
      "17/17 [==============================] - 0s 11ms/step - loss: 0.7658 - accuracy: 0.4655 - val_loss: 0.7866 - val_accuracy: 0.4545\n"
     ]
    },
    {
     "data": {
      "text/plain": [
       "<keras.callbacks.History at 0x1cc148f2f70>"
      ]
     },
     "execution_count": 8,
     "metadata": {},
     "output_type": "execute_result"
    }
   ],
   "source": [
    "# Entraîner le modèle\n",
    "model.fit(X_train, Y_train, epochs=10, batch_size=32, validation_data=(X_test, Y_test))"
   ]
  },
  {
   "cell_type": "code",
   "execution_count": null,
   "id": "88de9ff2-74f4-48e1-ac61-d116cd1b39db",
   "metadata": {},
   "outputs": [
    {
     "name": "stdout",
     "output_type": "stream",
     "text": [
      "8/8 [==============================] - 0s 6ms/step - loss: 0.7866 - accuracy: 0.4545\n",
      "Loss: 0.7865510582923889\n",
      "Accuracy: 0.4545454680919647\n"
     ]
    }
   ],
   "source": [
    "# Évaluer le modèle sur l'ensemble de test\n",
    "loss, accuracy = model.evaluate(X_test, Y_test)\n",
    "\n",
    "# Afficher les résultats\n",
    "print(\"Loss:\", loss)\n",
    "print(\"Accuracy:\", accuracy)"
   ]
  },
  {
   "cell_type": "markdown",
   "id": "146e8614-a462-4725-a2d6-47fd2f1705d5",
   "metadata": {},
   "source": [
    "##Comparaisson avec d'autre optimiseur"
   ]
  },
  {
   "cell_type": "code",
   "execution_count": 15,
   "id": "f1239009-5fe4-4b03-988a-7033cb45477a",
   "metadata": {},
   "outputs": [],
   "source": [
    "# Avec Adagrad\n",
    "# Compiler le modèle avec Adadelta comme optimiseur\n",
    "model.compile(optimizer=tf.keras.optimizers.Adagrad(),\n",
    "              loss='binary_crossentropy',\n",
    "              metrics=['accuracy'])\n"
   ]
  },
  {
   "cell_type": "code",
   "execution_count": 16,
   "id": "12cdf356-ac15-49be-8b26-b36425fe5870",
   "metadata": {},
   "outputs": [
    {
     "name": "stdout",
     "output_type": "stream",
     "text": [
      "Epoch 1/10\n",
      "17/17 [==============================] - 1s 25ms/step - loss: 0.7624 - accuracy: 0.4693 - val_loss: 0.7799 - val_accuracy: 0.4589\n",
      "Epoch 2/10\n",
      "17/17 [==============================] - 0s 9ms/step - loss: 0.7559 - accuracy: 0.4786 - val_loss: 0.7744 - val_accuracy: 0.4719\n",
      "Epoch 3/10\n",
      "17/17 [==============================] - 0s 8ms/step - loss: 0.7504 - accuracy: 0.4935 - val_loss: 0.7697 - val_accuracy: 0.4805\n",
      "Epoch 4/10\n",
      "17/17 [==============================] - 0s 7ms/step - loss: 0.7455 - accuracy: 0.5009 - val_loss: 0.7654 - val_accuracy: 0.4848\n",
      "Epoch 5/10\n",
      "17/17 [==============================] - 0s 7ms/step - loss: 0.7410 - accuracy: 0.5102 - val_loss: 0.7614 - val_accuracy: 0.4892\n",
      "Epoch 6/10\n",
      "17/17 [==============================] - 0s 8ms/step - loss: 0.7369 - accuracy: 0.5158 - val_loss: 0.7578 - val_accuracy: 0.4892\n",
      "Epoch 7/10\n",
      "17/17 [==============================] - 0s 6ms/step - loss: 0.7331 - accuracy: 0.5251 - val_loss: 0.7545 - val_accuracy: 0.4935\n",
      "Epoch 8/10\n",
      "17/17 [==============================] - 0s 7ms/step - loss: 0.7295 - accuracy: 0.5307 - val_loss: 0.7513 - val_accuracy: 0.5065\n",
      "Epoch 9/10\n",
      "17/17 [==============================] - 0s 7ms/step - loss: 0.7262 - accuracy: 0.5456 - val_loss: 0.7483 - val_accuracy: 0.5108\n",
      "Epoch 10/10\n",
      "17/17 [==============================] - 0s 7ms/step - loss: 0.7230 - accuracy: 0.5512 - val_loss: 0.7454 - val_accuracy: 0.5108\n"
     ]
    },
    {
     "data": {
      "text/plain": [
       "<keras.callbacks.History at 0x1cc16c9f5e0>"
      ]
     },
     "execution_count": 16,
     "metadata": {},
     "output_type": "execute_result"
    }
   ],
   "source": [
    "# Entraîner le modèle\n",
    "model.fit(X_train, Y_train, epochs=10, batch_size=32, validation_data=(X_test, Y_test))"
   ]
  },
  {
   "cell_type": "code",
   "execution_count": 17,
   "id": "634d5fac-ca9c-4b7c-94f0-04db1b3f6048",
   "metadata": {},
   "outputs": [
    {
     "name": "stdout",
     "output_type": "stream",
     "text": [
      "8/8 [==============================] - 0s 4ms/step - loss: 0.7454 - accuracy: 0.5108\n",
      "Loss: 0.74544757604599\n",
      "Accuracy: 0.5108225345611572\n"
     ]
    }
   ],
   "source": [
    "# Évaluer le modèle sur l'ensemble de test\n",
    "loss, accuracy = model.evaluate(X_test, Y_test)\n",
    "\n",
    "# Afficher les résultats\n",
    "print(\"Loss:\", loss)\n",
    "print(\"Accuracy:\", accuracy)"
   ]
  },
  {
   "cell_type": "code",
   "execution_count": 19,
   "id": "c8562e9f-b2c4-4363-9d09-c765beb206a5",
   "metadata": {},
   "outputs": [
    {
     "name": "stdout",
     "output_type": "stream",
     "text": [
      "Epoch 1/10\n",
      "17/17 [==============================] - 2s 26ms/step - loss: 0.6984 - accuracy: 0.5903 - val_loss: 0.7004 - val_accuracy: 0.6017\n",
      "Epoch 2/10\n",
      "17/17 [==============================] - 0s 9ms/step - loss: 0.6546 - accuracy: 0.6480 - val_loss: 0.6648 - val_accuracy: 0.6407\n",
      "Epoch 3/10\n",
      "17/17 [==============================] - 0s 8ms/step - loss: 0.6208 - accuracy: 0.6872 - val_loss: 0.6365 - val_accuracy: 0.6537\n",
      "Epoch 4/10\n",
      "17/17 [==============================] - 0s 8ms/step - loss: 0.5929 - accuracy: 0.7095 - val_loss: 0.6131 - val_accuracy: 0.6840\n",
      "Epoch 5/10\n",
      "17/17 [==============================] - 0s 9ms/step - loss: 0.5701 - accuracy: 0.7318 - val_loss: 0.5945 - val_accuracy: 0.6883\n",
      "Epoch 6/10\n",
      "17/17 [==============================] - 0s 8ms/step - loss: 0.5511 - accuracy: 0.7374 - val_loss: 0.5801 - val_accuracy: 0.7013\n",
      "Epoch 7/10\n",
      "17/17 [==============================] - 0s 9ms/step - loss: 0.5348 - accuracy: 0.7449 - val_loss: 0.5669 - val_accuracy: 0.7100\n",
      "Epoch 8/10\n",
      "17/17 [==============================] - 0s 8ms/step - loss: 0.5210 - accuracy: 0.7542 - val_loss: 0.5568 - val_accuracy: 0.7186\n",
      "Epoch 9/10\n",
      "17/17 [==============================] - 0s 11ms/step - loss: 0.5097 - accuracy: 0.7691 - val_loss: 0.5478 - val_accuracy: 0.7446\n",
      "Epoch 10/10\n",
      "17/17 [==============================] - 0s 10ms/step - loss: 0.4992 - accuracy: 0.7747 - val_loss: 0.5414 - val_accuracy: 0.7403\n",
      "8/8 [==============================] - 0s 4ms/step - loss: 0.5414 - accuracy: 0.7403\n",
      "Loss: 0.5413534045219421\n",
      "Accuracy: 0.7402597665786743\n"
     ]
    }
   ],
   "source": [
    "# Avec Adam\n",
    "# Compiler le modèle avec Adadelta comme optimiseur\n",
    "model.compile(optimizer=tf.keras.optimizers.Adam(),\n",
    "              loss='binary_crossentropy',\n",
    "              metrics=['accuracy'])\n",
    "# Entraîner le modèle\n",
    "model.fit(X_train, Y_train, epochs=10, batch_size=32, validation_data=(X_test, Y_test))\n",
    "# Évaluer le modèle sur l'ensemble de test\n",
    "loss, accuracy = model.evaluate(X_test, Y_test)\n",
    "\n",
    "# Afficher les résultats\n",
    "print(\"Loss:\", loss)\n",
    "print(\"Accuracy:\", accuracy)"
   ]
  },
  {
   "cell_type": "code",
   "execution_count": null,
   "id": "2c5f0ead-96ee-4c25-8e27-14e3646cbc6e",
   "metadata": {},
   "outputs": [],
   "source": []
  }
 ],
 "metadata": {
  "kernelspec": {
   "display_name": "Python 3 (ipykernel)",
   "language": "python",
   "name": "python3"
  },
  "language_info": {
   "codemirror_mode": {
    "name": "ipython",
    "version": 3
   },
   "file_extension": ".py",
   "mimetype": "text/x-python",
   "name": "python",
   "nbconvert_exporter": "python",
   "pygments_lexer": "ipython3",
   "version": "3.9.13"
  }
 },
 "nbformat": 4,
 "nbformat_minor": 5
}
