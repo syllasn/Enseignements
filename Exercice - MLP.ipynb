{
 "cells": [
  {
   "cell_type": "code",
   "execution_count": 3,
   "id": "7022ce52",
   "metadata": {},
   "outputs": [
    {
     "name": "stderr",
     "output_type": "stream",
     "text": [
      "2023-05-10 11:34:27.516790: I tensorflow/core/platform/cpu_feature_guard.cc:182] This TensorFlow binary is optimized to use available CPU instructions in performance-critical operations.\n",
      "To enable the following instructions: AVX2 FMA, in other operations, rebuild TensorFlow with the appropriate compiler flags.\n"
     ]
    }
   ],
   "source": [
    "import numpy as np\n",
    "import pandas as pd\n",
    "import tensorflow as tf"
   ]
  },
  {
   "cell_type": "code",
   "execution_count": 2,
   "id": "ffbcafc8",
   "metadata": {},
   "outputs": [
    {
     "data": {
      "text/html": [
       "<div>\n",
       "<style scoped>\n",
       "    .dataframe tbody tr th:only-of-type {\n",
       "        vertical-align: middle;\n",
       "    }\n",
       "\n",
       "    .dataframe tbody tr th {\n",
       "        vertical-align: top;\n",
       "    }\n",
       "\n",
       "    .dataframe thead th {\n",
       "        text-align: right;\n",
       "    }\n",
       "</style>\n",
       "<table border=\"1\" class=\"dataframe\">\n",
       "  <thead>\n",
       "    <tr style=\"text-align: right;\">\n",
       "      <th></th>\n",
       "      <th>Pregnancies</th>\n",
       "      <th>Glucose</th>\n",
       "      <th>BloodPressure</th>\n",
       "      <th>SkinThickness</th>\n",
       "      <th>Insulin</th>\n",
       "      <th>BMI</th>\n",
       "      <th>DiabetesPedigreeFunction</th>\n",
       "      <th>Age</th>\n",
       "      <th>Outcome</th>\n",
       "    </tr>\n",
       "  </thead>\n",
       "  <tbody>\n",
       "    <tr>\n",
       "      <th>0</th>\n",
       "      <td>6</td>\n",
       "      <td>148</td>\n",
       "      <td>72</td>\n",
       "      <td>35</td>\n",
       "      <td>0</td>\n",
       "      <td>33.6</td>\n",
       "      <td>0.627</td>\n",
       "      <td>50</td>\n",
       "      <td>1</td>\n",
       "    </tr>\n",
       "    <tr>\n",
       "      <th>1</th>\n",
       "      <td>1</td>\n",
       "      <td>85</td>\n",
       "      <td>66</td>\n",
       "      <td>29</td>\n",
       "      <td>0</td>\n",
       "      <td>26.6</td>\n",
       "      <td>0.351</td>\n",
       "      <td>31</td>\n",
       "      <td>0</td>\n",
       "    </tr>\n",
       "    <tr>\n",
       "      <th>2</th>\n",
       "      <td>8</td>\n",
       "      <td>183</td>\n",
       "      <td>64</td>\n",
       "      <td>0</td>\n",
       "      <td>0</td>\n",
       "      <td>23.3</td>\n",
       "      <td>0.672</td>\n",
       "      <td>32</td>\n",
       "      <td>1</td>\n",
       "    </tr>\n",
       "    <tr>\n",
       "      <th>3</th>\n",
       "      <td>1</td>\n",
       "      <td>89</td>\n",
       "      <td>66</td>\n",
       "      <td>23</td>\n",
       "      <td>94</td>\n",
       "      <td>28.1</td>\n",
       "      <td>0.167</td>\n",
       "      <td>21</td>\n",
       "      <td>0</td>\n",
       "    </tr>\n",
       "    <tr>\n",
       "      <th>4</th>\n",
       "      <td>0</td>\n",
       "      <td>137</td>\n",
       "      <td>40</td>\n",
       "      <td>35</td>\n",
       "      <td>168</td>\n",
       "      <td>43.1</td>\n",
       "      <td>2.288</td>\n",
       "      <td>33</td>\n",
       "      <td>1</td>\n",
       "    </tr>\n",
       "  </tbody>\n",
       "</table>\n",
       "</div>"
      ],
      "text/plain": [
       "   Pregnancies  Glucose  BloodPressure  SkinThickness  Insulin   BMI  \\\n",
       "0            6      148             72             35        0  33.6   \n",
       "1            1       85             66             29        0  26.6   \n",
       "2            8      183             64              0        0  23.3   \n",
       "3            1       89             66             23       94  28.1   \n",
       "4            0      137             40             35      168  43.1   \n",
       "\n",
       "   DiabetesPedigreeFunction  Age  Outcome  \n",
       "0                     0.627   50        1  \n",
       "1                     0.351   31        0  \n",
       "2                     0.672   32        1  \n",
       "3                     0.167   21        0  \n",
       "4                     2.288   33        1  "
      ]
     },
     "execution_count": 2,
     "metadata": {},
     "output_type": "execute_result"
    }
   ],
   "source": [
    "df = pd.read_csv('diabetes.csv');\n",
    "df.head()"
   ]
  },
  {
   "cell_type": "code",
   "execution_count": 5,
   "id": "cde4d61c",
   "metadata": {},
   "outputs": [],
   "source": [
    "Y = df['Outcome']\n",
    "X = df.drop('Outcome', axis=1)"
   ]
  },
  {
   "cell_type": "code",
   "execution_count": 7,
   "id": "e29e281a",
   "metadata": {},
   "outputs": [],
   "source": [
    "from sklearn.model_selection import train_test_split\n",
    "X_train,X_test,Y_train,Y_test = train_test_split(X,Y, test_size=0.3, random_state=12)"
   ]
  },
  {
   "cell_type": "code",
   "execution_count": 8,
   "id": "330dc9aa",
   "metadata": {},
   "outputs": [
    {
     "name": "stdout",
     "output_type": "stream",
     "text": [
      "<keras.engine.sequential.Sequential object at 0x7fe957a776d0>\n"
     ]
    }
   ],
   "source": [
    "#initialisation du model\n",
    "model =tf.keras.models.Sequential()\n",
    "print(model)\n",
    "# 1.  input layer \n",
    "model.add(tf.keras.layers.Dense(3,input_dim=8,activation='relu'))\n",
    "# 2: Couche cachers\n",
    "model.add(tf.keras.layers.Dense(3,activation='sigmoid'))\n",
    "model.add(tf.keras.layers.Dense(5,activation='relu'))\n",
    "model.add(tf.keras.layers.Dense(4,activation='sigmoid'))\n",
    "\n",
    "# 3 / output layers\n",
    "model.add(tf.keras.layers.Dense(1,activation='sigmoid'))"
   ]
  },
  {
   "cell_type": "code",
   "execution_count": 9,
   "id": "074ef298",
   "metadata": {},
   "outputs": [
    {
     "name": "stdout",
     "output_type": "stream",
     "text": [
      "Model: \"sequential\"\n",
      "_________________________________________________________________\n",
      " Layer (type)                Output Shape              Param #   \n",
      "=================================================================\n",
      " dense (Dense)               (None, 3)                 27        \n",
      "                                                                 \n",
      " dense_1 (Dense)             (None, 3)                 12        \n",
      "                                                                 \n",
      " dense_2 (Dense)             (None, 5)                 20        \n",
      "                                                                 \n",
      " dense_3 (Dense)             (None, 4)                 24        \n",
      "                                                                 \n",
      " dense_4 (Dense)             (None, 1)                 5         \n",
      "                                                                 \n",
      "=================================================================\n",
      "Total params: 88\n",
      "Trainable params: 88\n",
      "Non-trainable params: 0\n",
      "_________________________________________________________________\n"
     ]
    }
   ],
   "source": [
    "model.summary()"
   ]
  },
  {
   "cell_type": "code",
   "execution_count": 10,
   "id": "914f8e33",
   "metadata": {},
   "outputs": [],
   "source": [
    "#implementer fonction cout et optimiseur\n",
    "model.compile(optimizer='SGD',loss='binary_crossentropy',metrics=['accuracy'])"
   ]
  },
  {
   "cell_type": "code",
   "execution_count": 11,
   "id": "10a6df21",
   "metadata": {},
   "outputs": [
    {
     "name": "stdout",
     "output_type": "stream",
     "text": [
      "Epoch 1/50\n",
      "17/17 [==============================] - 1s 14ms/step - loss: 0.6875 - accuracy: 0.6574 - val_loss: 0.6848 - val_accuracy: 0.6364\n",
      "Epoch 2/50\n",
      "17/17 [==============================] - 0s 4ms/step - loss: 0.6800 - accuracy: 0.6574 - val_loss: 0.6792 - val_accuracy: 0.6364\n",
      "Epoch 3/50\n",
      "17/17 [==============================] - 0s 7ms/step - loss: 0.6739 - accuracy: 0.6574 - val_loss: 0.6745 - val_accuracy: 0.6364\n",
      "Epoch 4/50\n",
      "17/17 [==============================] - 0s 5ms/step - loss: 0.6687 - accuracy: 0.6574 - val_loss: 0.6708 - val_accuracy: 0.6364\n",
      "Epoch 5/50\n",
      "17/17 [==============================] - 0s 4ms/step - loss: 0.6645 - accuracy: 0.6574 - val_loss: 0.6677 - val_accuracy: 0.6364\n",
      "Epoch 6/50\n",
      "17/17 [==============================] - 0s 3ms/step - loss: 0.6610 - accuracy: 0.6574 - val_loss: 0.6652 - val_accuracy: 0.6364\n",
      "Epoch 7/50\n",
      "17/17 [==============================] - 0s 5ms/step - loss: 0.6581 - accuracy: 0.6574 - val_loss: 0.6632 - val_accuracy: 0.6364\n",
      "Epoch 8/50\n",
      "17/17 [==============================] - 0s 5ms/step - loss: 0.6555 - accuracy: 0.6574 - val_loss: 0.6615 - val_accuracy: 0.6364\n",
      "Epoch 9/50\n",
      "17/17 [==============================] - 0s 4ms/step - loss: 0.6535 - accuracy: 0.6574 - val_loss: 0.6602 - val_accuracy: 0.6364\n",
      "Epoch 10/50\n",
      "17/17 [==============================] - 0s 4ms/step - loss: 0.6518 - accuracy: 0.6574 - val_loss: 0.6591 - val_accuracy: 0.6364\n",
      "Epoch 11/50\n",
      "17/17 [==============================] - 0s 5ms/step - loss: 0.6503 - accuracy: 0.6574 - val_loss: 0.6582 - val_accuracy: 0.6364\n",
      "Epoch 12/50\n",
      "17/17 [==============================] - 0s 4ms/step - loss: 0.6491 - accuracy: 0.6574 - val_loss: 0.6575 - val_accuracy: 0.6364\n",
      "Epoch 13/50\n",
      "17/17 [==============================] - 0s 4ms/step - loss: 0.6481 - accuracy: 0.6574 - val_loss: 0.6570 - val_accuracy: 0.6364\n",
      "Epoch 14/50\n",
      "17/17 [==============================] - 0s 3ms/step - loss: 0.6473 - accuracy: 0.6574 - val_loss: 0.6566 - val_accuracy: 0.6364\n",
      "Epoch 15/50\n",
      "17/17 [==============================] - 0s 4ms/step - loss: 0.6466 - accuracy: 0.6574 - val_loss: 0.6563 - val_accuracy: 0.6364\n",
      "Epoch 16/50\n",
      "17/17 [==============================] - 0s 5ms/step - loss: 0.6461 - accuracy: 0.6574 - val_loss: 0.6560 - val_accuracy: 0.6364\n",
      "Epoch 17/50\n",
      "17/17 [==============================] - 0s 5ms/step - loss: 0.6455 - accuracy: 0.6574 - val_loss: 0.6558 - val_accuracy: 0.6364\n",
      "Epoch 18/50\n",
      "17/17 [==============================] - 0s 3ms/step - loss: 0.6451 - accuracy: 0.6574 - val_loss: 0.6557 - val_accuracy: 0.6364\n",
      "Epoch 19/50\n",
      "17/17 [==============================] - 0s 4ms/step - loss: 0.6447 - accuracy: 0.6574 - val_loss: 0.6556 - val_accuracy: 0.6364\n",
      "Epoch 20/50\n",
      "17/17 [==============================] - 0s 5ms/step - loss: 0.6445 - accuracy: 0.6574 - val_loss: 0.6555 - val_accuracy: 0.6364\n",
      "Epoch 21/50\n",
      "17/17 [==============================] - 0s 4ms/step - loss: 0.6442 - accuracy: 0.6574 - val_loss: 0.6555 - val_accuracy: 0.6364\n",
      "Epoch 22/50\n",
      "17/17 [==============================] - 0s 5ms/step - loss: 0.6440 - accuracy: 0.6574 - val_loss: 0.6555 - val_accuracy: 0.6364\n",
      "Epoch 23/50\n",
      "17/17 [==============================] - 0s 3ms/step - loss: 0.6438 - accuracy: 0.6574 - val_loss: 0.6555 - val_accuracy: 0.6364\n",
      "Epoch 24/50\n",
      "17/17 [==============================] - 0s 5ms/step - loss: 0.6437 - accuracy: 0.6574 - val_loss: 0.6555 - val_accuracy: 0.6364\n",
      "Epoch 25/50\n",
      "17/17 [==============================] - 0s 4ms/step - loss: 0.6435 - accuracy: 0.6574 - val_loss: 0.6555 - val_accuracy: 0.6364\n",
      "Epoch 26/50\n",
      "17/17 [==============================] - 0s 5ms/step - loss: 0.6434 - accuracy: 0.6574 - val_loss: 0.6555 - val_accuracy: 0.6364\n",
      "Epoch 27/50\n",
      "17/17 [==============================] - 0s 4ms/step - loss: 0.6434 - accuracy: 0.6574 - val_loss: 0.6555 - val_accuracy: 0.6364\n",
      "Epoch 28/50\n",
      "17/17 [==============================] - 0s 4ms/step - loss: 0.6432 - accuracy: 0.6574 - val_loss: 0.6556 - val_accuracy: 0.6364\n",
      "Epoch 29/50\n",
      "17/17 [==============================] - 0s 4ms/step - loss: 0.6432 - accuracy: 0.6574 - val_loss: 0.6556 - val_accuracy: 0.6364\n",
      "Epoch 30/50\n",
      "17/17 [==============================] - 0s 3ms/step - loss: 0.6431 - accuracy: 0.6574 - val_loss: 0.6557 - val_accuracy: 0.6364\n",
      "Epoch 31/50\n",
      "17/17 [==============================] - 0s 4ms/step - loss: 0.6431 - accuracy: 0.6574 - val_loss: 0.6557 - val_accuracy: 0.6364\n",
      "Epoch 32/50\n",
      "17/17 [==============================] - 0s 3ms/step - loss: 0.6430 - accuracy: 0.6574 - val_loss: 0.6557 - val_accuracy: 0.6364\n",
      "Epoch 33/50\n",
      "17/17 [==============================] - 0s 5ms/step - loss: 0.6430 - accuracy: 0.6574 - val_loss: 0.6558 - val_accuracy: 0.6364\n",
      "Epoch 34/50\n",
      "17/17 [==============================] - 0s 4ms/step - loss: 0.6429 - accuracy: 0.6574 - val_loss: 0.6558 - val_accuracy: 0.6364\n",
      "Epoch 35/50\n",
      "17/17 [==============================] - 0s 5ms/step - loss: 0.6429 - accuracy: 0.6574 - val_loss: 0.6558 - val_accuracy: 0.6364\n",
      "Epoch 36/50\n",
      "17/17 [==============================] - 0s 4ms/step - loss: 0.6429 - accuracy: 0.6574 - val_loss: 0.6559 - val_accuracy: 0.6364\n",
      "Epoch 37/50\n",
      "17/17 [==============================] - 0s 3ms/step - loss: 0.6429 - accuracy: 0.6574 - val_loss: 0.6559 - val_accuracy: 0.6364\n",
      "Epoch 38/50\n",
      "17/17 [==============================] - 0s 4ms/step - loss: 0.6429 - accuracy: 0.6574 - val_loss: 0.6559 - val_accuracy: 0.6364\n",
      "Epoch 39/50\n",
      "17/17 [==============================] - 0s 4ms/step - loss: 0.6428 - accuracy: 0.6574 - val_loss: 0.6560 - val_accuracy: 0.6364\n",
      "Epoch 40/50\n",
      "17/17 [==============================] - 0s 7ms/step - loss: 0.6428 - accuracy: 0.6574 - val_loss: 0.6560 - val_accuracy: 0.6364\n",
      "Epoch 41/50\n",
      "17/17 [==============================] - 0s 4ms/step - loss: 0.6429 - accuracy: 0.6574 - val_loss: 0.6560 - val_accuracy: 0.6364\n",
      "Epoch 42/50\n",
      "17/17 [==============================] - 0s 8ms/step - loss: 0.6429 - accuracy: 0.6574 - val_loss: 0.6561 - val_accuracy: 0.6364\n",
      "Epoch 43/50\n",
      "17/17 [==============================] - 0s 3ms/step - loss: 0.6428 - accuracy: 0.6574 - val_loss: 0.6561 - val_accuracy: 0.6364\n",
      "Epoch 44/50\n",
      "17/17 [==============================] - 0s 4ms/step - loss: 0.6429 - accuracy: 0.6574 - val_loss: 0.6561 - val_accuracy: 0.6364\n",
      "Epoch 45/50\n",
      "17/17 [==============================] - 0s 3ms/step - loss: 0.6429 - accuracy: 0.6574 - val_loss: 0.6562 - val_accuracy: 0.6364\n",
      "Epoch 46/50\n",
      "17/17 [==============================] - 0s 4ms/step - loss: 0.6429 - accuracy: 0.6574 - val_loss: 0.6562 - val_accuracy: 0.6364\n",
      "Epoch 47/50\n",
      "17/17 [==============================] - 0s 3ms/step - loss: 0.6428 - accuracy: 0.6574 - val_loss: 0.6562 - val_accuracy: 0.6364\n",
      "Epoch 48/50\n",
      "17/17 [==============================] - 0s 3ms/step - loss: 0.6428 - accuracy: 0.6574 - val_loss: 0.6562 - val_accuracy: 0.6364\n",
      "Epoch 49/50\n",
      "17/17 [==============================] - 0s 3ms/step - loss: 0.6429 - accuracy: 0.6574 - val_loss: 0.6562 - val_accuracy: 0.6364\n",
      "Epoch 50/50\n",
      "17/17 [==============================] - 0s 3ms/step - loss: 0.6428 - accuracy: 0.6574 - val_loss: 0.6562 - val_accuracy: 0.6364\n"
     ]
    }
   ],
   "source": [
    "data = model.fit(x=X_train,y=Y_train,validation_data=(X_test,Y_test),epochs=50) "
   ]
  },
  {
   "cell_type": "code",
   "execution_count": 28,
   "id": "adfddaf7",
   "metadata": {},
   "outputs": [
    {
     "name": "stdout",
     "output_type": "stream",
     "text": [
      "8/8 [==============================] - 0s 2ms/step\n"
     ]
    }
   ],
   "source": [
    "pred_mlp = model.predict(X_test)"
   ]
  },
  {
   "cell_type": "code",
   "execution_count": 30,
   "id": "e0e5909f",
   "metadata": {},
   "outputs": [
    {
     "name": "stdout",
     "output_type": "stream",
     "text": [
      "accuracy du MLP 0.6363636363636364\n"
     ]
    }
   ],
   "source": [
    "mlp_acc = accuracy_score(Y_test, pred_mlp.round())\n",
    "print('accuracy du MLP', mlp_acc)"
   ]
  },
  {
   "cell_type": "code",
   "execution_count": 14,
   "id": "cad2fc9e",
   "metadata": {},
   "outputs": [
    {
     "name": "stdout",
     "output_type": "stream",
     "text": [
      "accuracy de la regression logique 0.7922077922077922\n"
     ]
    },
    {
     "name": "stderr",
     "output_type": "stream",
     "text": [
      "/opt/anaconda3/lib/python3.9/site-packages/sklearn/linear_model/_logistic.py:814: ConvergenceWarning: lbfgs failed to converge (status=1):\n",
      "STOP: TOTAL NO. of ITERATIONS REACHED LIMIT.\n",
      "\n",
      "Increase the number of iterations (max_iter) or scale the data as shown in:\n",
      "    https://scikit-learn.org/stable/modules/preprocessing.html\n",
      "Please also refer to the documentation for alternative solver options:\n",
      "    https://scikit-learn.org/stable/modules/linear_model.html#logistic-regression\n",
      "  n_iter_i = _check_optimize_result(\n"
     ]
    }
   ],
   "source": [
    "# REGRESSION LOGISTIQUE\n",
    "from sklearn.linear_model import LogisticRegression\n",
    "from sklearn.metrics import accuracy_score\n",
    "lr = LogisticRegression()\n",
    "lr.fit(X_train,Y_train)\n",
    "pred_lr = lr.predict(X_test)\n",
    "lr_acc = accuracy_score(Y_test,pred_lr)\n",
    "print('accuracy de la regression logique', lr_acc)"
   ]
  },
  {
   "cell_type": "code",
   "execution_count": 19,
   "id": "4c285856",
   "metadata": {},
   "outputs": [
    {
     "name": "stdout",
     "output_type": "stream",
     "text": [
      "accuracy du random forest 0.7835497835497836\n"
     ]
    }
   ],
   "source": [
    "# RANDOM FOREST \n",
    "from sklearn.ensemble import RandomForestRegressor\n",
    "rf = RandomForestRegressor(n_estimators = 1000, random_state = 42)\n",
    "rf.fit(X_train, Y_train)\n",
    "pred_rf= rf.predict(X_test)\n",
    "rf_acc = accuracy_score(Y_test, pred_rf.round())\n",
    "print('accuracy du random forest', rf_acc)"
   ]
  },
  {
   "cell_type": "code",
   "execution_count": null,
   "id": "f0f6c28a",
   "metadata": {},
   "outputs": [],
   "source": []
  }
 ],
 "metadata": {
  "kernelspec": {
   "display_name": "Python 3 (ipykernel)",
   "language": "python",
   "name": "python3"
  },
  "language_info": {
   "codemirror_mode": {
    "name": "ipython",
    "version": 3
   },
   "file_extension": ".py",
   "mimetype": "text/x-python",
   "name": "python",
   "nbconvert_exporter": "python",
   "pygments_lexer": "ipython3",
   "version": "3.9.12"
  }
 },
 "nbformat": 4,
 "nbformat_minor": 5
}
